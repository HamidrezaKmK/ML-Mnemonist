{
 "cells": [
  {
   "cell_type": "markdown",
   "metadata": {
    "colab_type": "text",
    "id": "view-in-github"
   },
   "source": [
    "<a href=\"https://colab.research.google.com/github/HamidrezaKmK/ML-Mnemonist/blob/main/ExperimentRunnerTutorial.ipynb\" target=\"_parent\"><img src=\"https://colab.research.google.com/assets/colab-badge.svg\" alt=\"Open In Colab\"/></a>"
   ]
  },
  {
   "cell_type": "markdown",
   "metadata": {
    "id": "rE6olttuFV0Q"
   },
   "source": [
    "# Setup hosted runtime"
   ]
  },
  {
   "cell_type": "code",
   "execution_count": 1,
   "metadata": {
    "colab": {
     "base_uri": "https://localhost:8080/"
    },
    "id": "eOfp_NGbT1jZ",
    "outputId": "79649df5-19a7-4f4a-a2a6-f49a6cc498c7"
   },
   "outputs": [
    {
     "name": "stdout",
     "output_type": "stream",
     "text": [
      "Writing sys_setup.py\n"
     ]
    }
   ],
   "source": [
    "%%writefile sys_setup.py\n",
    "#!usr/bin/bash python\n",
    "\n",
    "import sys\n",
    "from google.colab import drive\n",
    "import subprocess\n",
    "import os\n",
    "import shutil\n",
    "\n",
    "PROJ_NAME = 'ML-Mnemonist'\n",
    "GIT_DIR = 'HamidrezaKmK'\n",
    "\n",
    "data_dir = None\n",
    "\n",
    "if __name__ == '__main__':\n",
    "  env = os.environ.copy()\n",
    "  if not os.path.exists('/content/drive'):\n",
    "    print(\"Mounting drive...\")\n",
    "    drive.mount('/content/drive')\n",
    "    print(\"Mount complete!\")\n",
    "\n",
    "  while True:\n",
    "    opt = input(\"What are you trying to do? [clone/pull] \")\n",
    "    if opt == 'clone':\n",
    "      addr = f\"https://github.com/{GIT_DIR}/{PROJ_NAME}\"\n",
    "      print(f\"Trying to connect to {addr}\")\n",
    "      token = input(\"Enter token: \")\n",
    "      addr = addr.replace('[TOKEN]', token)\n",
    "      res = subprocess.run(['git', 'clone', addr], env=env, capture_output=True)\n",
    "      print(res.stdout.decode())\n",
    "      print(res.stderr.decode())\n",
    "      break\n",
    "    elif opt == 'pull':\n",
    "      path = os.path.join('/content', PROJ_NAME)\n",
    "      os.chdir(path)\n",
    "      res = subprocess.run(['git', 'pull'], env=env, capture_output=True)\n",
    "      print(res.stdout.decode())\n",
    "      print(res.stderr.decode())\n",
    "      break\n",
    "    elif opt == '':\n",
    "      print(\"Nothing happened!\")\n",
    "      break\n",
    "  \n",
    "  if not os.path.exists(f'/content/{PROJ_NAME}'):\n",
    "    raise RuntimeError(\"No project repository available!\")\n",
    "\n",
    "  if not os.path.exists(f'/content/{PROJ_NAME}/.env'):\n",
    "    print(\"Dotenv non-existant!\")\n",
    "    while True:\n",
    "      resp = input(\"Do you want to enter the file in the prompt or copy it?\\n[copy/write] \")\n",
    "      if resp == 'copy':\n",
    "        dir = input(\"Enter the directory to copy: \")\n",
    "        shutil.copyfile(dir, f'/content/{PROJ_NAME}/.env')\n",
    "      elif resp == 'write':\n",
    "        print(\"Enter the lines in format ENV_VARIABLE_NAME=VALUE\")\n",
    "        print(\"End with: ENDFILE\")\n",
    "        with open(f'/content/{PROJ_NAME}/.env', 'w') as f:\n",
    "          while True:\n",
    "            line = input()\n",
    "            if line == 'ENDFILE':\n",
    "              break\n",
    "            f.write(f'{line}\\n')\n",
    "      else:\n",
    "        continue\n",
    "      break\n",
    "        \n",
    "  os.chdir('/content')\n"
   ]
  },
  {
   "cell_type": "code",
   "execution_count": 23,
   "metadata": {
    "colab": {
     "base_uri": "https://localhost:8080/",
     "height": 52
    },
    "id": "mzkBQqSLUWC3",
    "outputId": "2d475291-ff6f-430d-da51-06a1eb22bb66"
   },
   "outputs": [
    {
     "name": "stdout",
     "output_type": "stream",
     "text": [
      "Running complete!\n"
     ]
    },
    {
     "data": {
      "text/plain": [
       "<Figure size 432x288 with 0 Axes>"
      ]
     },
     "metadata": {},
     "output_type": "display_data"
    }
   ],
   "source": [
    "PROJ_NAME = 'ML-Mnemonist'\n",
    "\n",
    "from IPython.display import clear_output\n",
    "%run /content/sys_setup.py\n",
    "resp = input(\"Do you want to install packages? [y/n] \")\n",
    "if resp == 'y':\n",
    "  !pip install -r /content/ML-Mnemonist/requirements.txt\n",
    "  input(\"Requrements installed! -- press any key to continue ...\")\n",
    "clear_output()\n",
    "\n",
    "import sys\n",
    "sys.path.append(f'/content/{PROJ_NAME}')\n",
    "os.chdir(f'/content/{PROJ_NAME}')\n",
    "print(\"Running complete!\")"
   ]
  },
  {
   "cell_type": "markdown",
   "metadata": {},
   "source": [
    "# Local Runtime"
   ]
  },
  {
   "cell_type": "code",
   "execution_count": 3,
   "metadata": {},
   "outputs": [],
   "source": [
    "import sys\n",
    "sys.path.append('.')"
   ]
  },
  {
   "cell_type": "markdown",
   "metadata": {
    "id": "iNiIuYQbWti3"
   },
   "source": [
    "# Experiment runner"
   ]
  },
  {
   "cell_type": "markdown",
   "metadata": {
    "id": "_FxBXOOvtLWC"
   },
   "source": [
    "Create a runner factory. This factory has the ability to create your runners. The factory automatically fills up the environment variables using the `.env` file provided. \n",
    "\n",
    "It fills up the following:\n",
    "- `config_dir`: A path containing all your configuration `yaml` files.\n",
    "- `experiment_dir`: A path containing all your experiments. The result of all the experiments will be stored as directories in this path.\n",
    "- `checkpoint_dir`: A path containing all the model checkpoints which is used for cached run functions."
   ]
  },
  {
   "cell_type": "code",
   "execution_count": 1,
   "metadata": {
    "id": "azqIcguUWxka"
   },
   "outputs": [],
   "source": [
    "from mlmnemonist.experiment_factory import ExperimentRunnerFactory\n",
    "from config.config import get_cfg_defaults\n",
    "\n",
    "factory = ExperimentRunnerFactory(config_default_builder=get_cfg_defaults)\n"
   ]
  },
  {
   "cell_type": "code",
   "execution_count": 2,
   "metadata": {
    "id": "2Eh4tGm5XTOR"
   },
   "outputs": [],
   "source": [
    "runner = factory.create(cfg_dir='conf-test.yaml', experiment_name='my_first_experiment', \n",
    "                        verbose=1, cache_token='tok-227')\n"
   ]
  },
  {
   "cell_type": "code",
   "execution_count": 3,
   "metadata": {
    "colab": {
     "base_uri": "https://localhost:8080/"
    },
    "id": "Hq7nSM-f8ehy",
    "outputId": "01b07a97-a5c5-414c-f84d-9fc60fabd313"
   },
   "outputs": [
    {
     "name": "stdout",
     "output_type": "stream",
     "text": [
      "Experiment runner of type: <class 'mlmnemonist.experiment_runner.ExperimentRunner'>\n",
      "\t - cache token: tok-227\n",
      "\t - configurations at: ./config/conf-test.yaml\n",
      "\t - preprocessings functions []\n",
      "\t - recurring pipeline []\n",
      "\t - Run function not implemented!\n"
     ]
    }
   ],
   "source": [
    "print(runner)"
   ]
  },
  {
   "cell_type": "markdown",
   "metadata": {
    "id": "U_PEvAX89xMs"
   },
   "source": [
    "# Run a simple linear regression program\n",
    "\n"
   ]
  },
  {
   "cell_type": "code",
   "execution_count": 4,
   "metadata": {
    "id": "GFRWSI6F_Af_"
   },
   "outputs": [],
   "source": [
    "from mlmnemonist.experiment_runner import ExperimentRunner\n",
    "import pandas as pd\n",
    "import os"
   ]
  },
  {
   "cell_type": "code",
   "execution_count": 5,
   "metadata": {
    "id": "fQaHIvGQ_3YG"
   },
   "outputs": [],
   "source": [
    "runner.preprocessing_pipeline.clear_functions()"
   ]
  },
  {
   "cell_type": "code",
   "execution_count": 11,
   "metadata": {
    "id": "PhuvzGFG-86Z"
   },
   "outputs": [],
   "source": [
    "def load_raw_data(runner: ExperimentRunner):\n",
    "  train_name = runner.cfg.DATASET.TRAIN_NAME\n",
    "  test_name = runner.cfg.DATASET.TEST_NAME\n",
    "  runner.train_df = pd.read_csv(runner.reveal_true_path(train_name))\n",
    "  runner.test_df = pd.read_csv(runner.reveal_true_path(test_name))\n",
    "  print(runner.train_df.head())\n",
    "runner.preprocessing_pipeline.update_function(load_raw_data)"
   ]
  },
  {
   "cell_type": "code",
   "execution_count": 12,
   "metadata": {
    "id": "3Vo6EsKg_jmk"
   },
   "outputs": [],
   "source": [
    "def process_data(runner: ExperimentRunner):\n",
    "  runner.train_X = runner.train_df.drop(columns='median_house_value').to_numpy()\n",
    "  runner.train_Y = runner.train_df['median_house_value'].to_numpy()\n",
    "  runner.test_X = runner.test_df.drop(columns='median_house_value').to_numpy()\n",
    "  runner.test_Y = runner.test_df['median_house_value'].to_numpy()\n",
    "runner.preprocessing_pipeline.update_function(process_data)"
   ]
  },
  {
   "cell_type": "code",
   "execution_count": 13,
   "metadata": {
    "colab": {
     "base_uri": "https://localhost:8080/"
    },
    "id": "PuGBf7CgAuwB",
    "outputId": "b74da402-4d9c-4e49-f3d1-6217f65b0230"
   },
   "outputs": [
    {
     "name": "stdout",
     "output_type": "stream",
     "text": [
      "Experiment runner of type: <class 'mlmnemonist.experiment_runner.ExperimentRunner'>\n",
      "\t - cache token: tok-227\n",
      "\t - configurations at: ./config/conf-test.yaml\n",
      "\t - preprocessings functions ['load_raw_data', 'process_data']\n",
      "\t - recurring pipeline []\n",
      "\t - Run function not implemented!\n"
     ]
    }
   ],
   "source": [
    "print(runner)"
   ]
  },
  {
   "cell_type": "code",
   "execution_count": 14,
   "metadata": {
    "colab": {
     "base_uri": "https://localhost:8080/"
    },
    "id": "o9XySh8pBGwz",
    "outputId": "279a1b1d-764f-4e9b-a8c5-a53d936e709e"
   },
   "outputs": [
    {
     "name": "stdout",
     "output_type": "stream",
     "text": [
      "[1/2] Running load_raw_data\n",
      "   longitude  latitude  housing_median_age  total_rooms  total_bedrooms  \\\n",
      "0    -114.31     34.19                15.0       5612.0          1283.0   \n",
      "1    -114.47     34.40                19.0       7650.0          1901.0   \n",
      "2    -114.56     33.69                17.0        720.0           174.0   \n",
      "3    -114.57     33.64                14.0       1501.0           337.0   \n",
      "4    -114.57     33.57                20.0       1454.0           326.0   \n",
      "\n",
      "   population  households  median_income  median_house_value  \n",
      "0      1015.0       472.0         1.4936             66900.0  \n",
      "1      1129.0       463.0         1.8200             80100.0  \n",
      "2       333.0       117.0         1.6509             85700.0  \n",
      "3       515.0       226.0         3.1917             73400.0  \n",
      "4       624.0       262.0         1.9250             65500.0  \n",
      "[2/2] Running process_data\n"
     ]
    }
   ],
   "source": [
    "# Run the functions in line\n",
    "runner.preprocess()"
   ]
  },
  {
   "cell_type": "markdown",
   "metadata": {
    "id": "dXriKjd6IaYC"
   },
   "source": [
    "## Create a model\n",
    "\n",
    "All models are stored in the `src.modeling` directory. Each modeling file should contain a registry that will give us access to different model types using a configuration. \n",
    "\n",
    "For example, in `conf-test.yaml` we defined an MLP with 3 layers and certain hyper parameters. The following functions are part of preprocessing and setup our model.\n"
   ]
  },
  {
   "cell_type": "code",
   "execution_count": 15,
   "metadata": {
    "id": "4rUEXYL2p-Jx"
   },
   "outputs": [],
   "source": [
    "import torch\n",
    "import torch.nn as nn\n",
    "import torch.nn.functional as F\n",
    "\n",
    "class MyMLP(nn.Module):\n",
    "    def __init__(self, input_features: int, hidden_layer_1: int, hidden_layer_2: int):\n",
    "        super(MyMLP, self).__init__()\n",
    "        self.l1 = nn.Linear(input_features, hidden_layer_1)\n",
    "        self.l2 = nn.Linear(hidden_layer_1, hidden_layer_2)\n",
    "        self.l3 = nn.Linear(hidden_layer_2, 1)\n",
    "\n",
    "    def forward(self, x):\n",
    "        x = self.l1(x)\n",
    "        x = F.relu(x)\n",
    "        x = self.l2(x)\n",
    "        x = F.relu(x)\n",
    "        x = self.l3(x)\n",
    "        return x\n"
   ]
  },
  {
   "cell_type": "code",
   "execution_count": 16,
   "metadata": {
    "id": "ort8OLJRIeUQ"
   },
   "outputs": [],
   "source": [
    "\n",
    "def setup_model(runner: ExperimentRunner):\n",
    "  # extract the method from config\n",
    "  method = runner.cfg.SOLVER.METHOD\n",
    "  # construct the model from registry\n",
    "  cfg_h_params = runner.cfg.MODEL.HYPER_PARAMETERS\n",
    "  my_model = MyMLP(input_features=cfg_h_params.IN_FEATURES,\n",
    "                   hidden_layer_1=cfg_h_params.H1,\n",
    "                   hidden_layer_2=cfg_h_params.H2)\n",
    "  # set the function in the cache to save weights\n",
    "  runner.CACHE.SET_IFN_M('mlp-key', my_model)\n",
    "runner.preprocessing_pipeline.update_function(setup_model)"
   ]
  },
  {
   "cell_type": "code",
   "execution_count": 17,
   "metadata": {
    "id": "2DdIqwaOSRlR"
   },
   "outputs": [],
   "source": [
    "import torch\n",
    "def setup_device(runner: ExperimentRunner):\n",
    "  # extract the device from config\n",
    "  device = runner.cfg.SOLVER.DEVICE\n",
    "  if device == 'cpu':\n",
    "    runner.device = torch.device('cpu')\n",
    "  elif device == 'cuda' and torch.cuda.is_available():\n",
    "    runner.device = torch.device('cuda')\n",
    "  else:\n",
    "    raise NotImplementedError(f\"device {device} is not implemented!\")\n",
    "  my_model = runner.CACHE.GET_M('mlp-key').to(runner.device)\n",
    "  if runner.verbose > 0:\n",
    "    print(\"Printing the model state_dict\")\n",
    "    print(my_model)\n",
    "runner.preprocessing_pipeline.update_function(setup_device)"
   ]
  },
  {
   "cell_type": "code",
   "execution_count": 18,
   "metadata": {
    "id": "sGhQ3LKcS-dC"
   },
   "outputs": [],
   "source": [
    "import torch\n",
    "import torch.nn as nn\n",
    "\n",
    "def setup_training(runner: ExperimentRunner):\n",
    "  my_model = runner.CACHE.GET_M('mlp-key').to(runner.device)\n",
    "  runner.criterion = nn.MSELoss()\n",
    "  if runner.cfg.SOLVER.OPTIMIZER_TYPE == 'adam':\n",
    "    runner.optim = torch.optim.Adam(my_model.parameters(), lr=runner.cfg.SOLVER.LR)\n",
    "  else:\n",
    "    raise NotImplementedError(f\"Optimizer type not implemented\"\n",
    "                              f\"{runner.cfg.SOLVER.OPTIMIZER_TYPE}\")\n",
    "runner.preprocessing_pipeline.update_function(setup_training)"
   ]
  },
  {
   "cell_type": "code",
   "execution_count": 19,
   "metadata": {
    "colab": {
     "base_uri": "https://localhost:8080/"
    },
    "id": "m3H9fjChzRRF",
    "outputId": "17f0f93e-66cd-4785-bfa7-99db66b52d8b"
   },
   "outputs": [
    {
     "name": "stdout",
     "output_type": "stream",
     "text": [
      "Experiment runner of type: <class 'mlmnemonist.experiment_runner.ExperimentRunner'>\n",
      "\t - cache token: tok-227\n",
      "\t - configurations at: ./config/conf-test.yaml\n",
      "\t - preprocessings functions ['setup_model', 'setup_device', 'setup_training']\n",
      "\t - recurring pipeline []\n",
      "\t - Run function not implemented!\n"
     ]
    }
   ],
   "source": [
    "print(runner)"
   ]
  },
  {
   "cell_type": "code",
   "execution_count": 20,
   "metadata": {
    "colab": {
     "base_uri": "https://localhost:8080/"
    },
    "id": "3QsSTXLDzTPz",
    "outputId": "b551a9f5-57e2-4a1a-df6b-2242d4f54a4c"
   },
   "outputs": [
    {
     "name": "stdout",
     "output_type": "stream",
     "text": [
      "[1/3] Running setup_model\n",
      "[2/3] Running setup_device\n",
      "Printing the model state_dict\n",
      "MyMLP(\n",
      "  (l1): Linear(in_features=8, out_features=100, bias=True)\n",
      "  (l2): Linear(in_features=100, out_features=10, bias=True)\n",
      "  (l3): Linear(in_features=10, out_features=1, bias=True)\n",
      ")\n",
      "[3/3] Running setup_training\n"
     ]
    }
   ],
   "source": [
    "runner.preprocess(keep=True)"
   ]
  },
  {
   "cell_type": "markdown",
   "metadata": {
    "id": "57mO42YpH-Ck"
   },
   "source": [
    "# Implement a run function\n",
    "\n",
    "A run function is the core part of an experiment. This function takes in an input of type `ExperimentRunner` type is its first element and a bunch of arbitrary input types for the rest.\n"
   ]
  },
  {
   "cell_type": "code",
   "execution_count": 17,
   "metadata": {
    "colab": {
     "base_uri": "https://localhost:8080/"
    },
    "id": "ajq3MZ0bhlxG",
    "outputId": "05c1c2ab-bf36-49b1-9cda-c9f1ff1f8abc"
   },
   "outputs": [
    {
     "name": "stdout",
     "output_type": "stream",
     "text": [
      "This will remove all of the variables from your runner's cache ...\n",
      "Are you sure you want to proceed? [y/n] n\n"
     ]
    }
   ],
   "source": [
    "runner.CACHE.RESET()"
   ]
  },
  {
   "cell_type": "code",
   "execution_count": 21,
   "metadata": {
    "id": "0il8pIX8H_uz"
   },
   "outputs": [],
   "source": [
    "from tqdm import tqdm\n",
    "from IPython.display import clear_output\n",
    "import matplotlib.pyplot as plt\n",
    "import numpy as np\n",
    "\n",
    "def helper(model, X, y, history, device, loss_fn, optimizer=None):\n",
    "  for st in range(0, X.shape[0], 500):\n",
    "    en = min(st + 500, X.shape[0])\n",
    "    X_ = torch.from_numpy(X[st:en, :]).float().to(device)\n",
    "    pred = model(X_)\n",
    "    y_ = torch.from_numpy(y[st:en]).float().to(device)\n",
    "    loss = loss_fn(pred.squeeze(), y_)\n",
    "    if optimizer is not None:\n",
    "      loss.backward()\n",
    "      optimizer.step()\n",
    "    history.append(loss.detach().cpu().item())\n",
    "    \n",
    "def my_custom_run(runner: ExperimentRunner, show_freq=50):\n",
    "  # print(runner.CACHE._cached_primitives)\n",
    "  # return\n",
    "  # Get model from cache\n",
    "  my_model = runner.CACHE.GET_M('mlp-key')\n",
    "\n",
    "  # Get the epoch number and history from cache\n",
    "  # if it is not cached from before set it to zero\n",
    "  epoch_i = runner.CACHE.SET_IFN('epoch_i', 0)\n",
    "  loss_history = runner.CACHE.SET_IFN('loss-history', [[], []])\n",
    "  for epoch_i in range(epoch_i, 10000):\n",
    "\n",
    "    inds = np.arange(runner.train_X.shape[0])\n",
    "    np.random.shuffle(inds)\n",
    "\n",
    "    loss_train = []\n",
    "    my_model.train()\n",
    "    helper(my_model, runner.train_X[inds],\n",
    "           runner.train_Y[inds], loss_train, runner.device,\n",
    "           runner.criterion, runner.optim)\n",
    "    loss_history[0].append(sum(loss_train) / len(loss_train))\n",
    "\n",
    "    loss_test = []\n",
    "    my_model.eval()\n",
    "    with torch.no_grad():\n",
    "      helper(my_model, runner.test_X,\n",
    "            runner.test_Y, loss_test, runner.device,\n",
    "            runner.criterion)\n",
    "    loss_history[1].append(sum(loss_test) / len(loss_test))\n",
    "    \n",
    "    if (epoch_i + 1) % show_freq == 0:\n",
    "      clear_output()\n",
    "      plt.plot(list(range(len(loss_history[0]))), loss_history[0], label='loss-train')\n",
    "      plt.plot(list(range(len(loss_history[1]))), loss_history[1], label='loss-test')\n",
    "      plt.legend()\n",
    "      plt.show()\n",
    "\n",
    "    # Caching and saving checkpoints\n",
    "    runner.CACHE.SET('epoch_i', epoch_i)\n",
    "    runner.CACHE.SET('loss-history', loss_history)\n",
    "    runner.CACHE.SET_M('mlp-key', my_model)\n",
    "    runner.CACHE.SAVE()\n",
    "\n",
    "runner.implement_run(my_custom_run)"
   ]
  },
  {
   "cell_type": "markdown",
   "metadata": {
    "id": "cc8aGQq_jDAG"
   },
   "source": [
    "Run the following function to see the training and validation loss.\n",
    "Interrupt the process for as many times as you like and re-run it. Since the code supports caching, it will continue right off where it last ended."
   ]
  },
  {
   "cell_type": "code",
   "execution_count": 22,
   "metadata": {
    "id": "ixAXNzv72XdZ"
   },
   "outputs": [],
   "source": [
    "del runner"
   ]
  },
  {
   "cell_type": "code",
   "execution_count": 22,
   "metadata": {
    "colab": {
     "base_uri": "https://localhost:8080/",
     "height": 415
    },
    "id": "p6IKYVw7dKBo",
    "outputId": "a3436114-2c4a-4dc5-a453-c82cb8b413eb"
   },
   "outputs": [
    {
     "data": {
      "image/png": "[encoded data removed]",
      "text/plain": [
       "<Figure size 432x288 with 1 Axes>"
      ]
     },
     "metadata": {
      "needs_background": "light"
     },
     "output_type": "display_data"
    },
    {
     "name": "stdout",
     "output_type": "stream",
     "text": [
      "Saving cache!\n",
      "Current primitives:\n",
      "{'epoch_i': 107, 'loss-history': [[56415029850.35294, 56361540547.76471, 56311842454.588234, 56256060114.82353, 56191308137.411766, 56117140058.35294, 56032325029.64706, 55933626849.882355, 55819893940.70588, 55687923952.94118, 55535569136.94118, 55355938816.0, 55145878708.70588, 54907567887.05882, 54640776854.588234, 54344956747.29412, 54016731497.411766, 53652801174.588234, 53256027316.70588, 52821646757.64706, 52343608982.588234, 51829835053.17647, 51277340431.05882, 50685483610.35294, 50061168158.117645, 49400745863.52941, 48710108461.17647, 47983253142.588234, 47220476024.47059, 46417181635.76471, 45590633773.17647, 44739568218.35294, 43866681103.05882, 42982413372.23529, 42083269330.82353, 41175785110.588234, 40262188815.05882, 39351686264.47059, 38441706375.52941, 37540321520.94118, 36648048278.588234, 35769302678.588234, 34915846505.411766, 34076255232.0, 33271828359.52941, 32482350260.705883, 31753824075.294117, 31065152692.705883, 30414478396.235294, 29797723557.64706, 29243499760.941177, 28773970100.705883, 28332841140.705883, 27989771264.0, 27688720082.82353, 27497599397.64706, 27352786763.294117, 27270752015.058823, 27279345965.17647, 27378395497.411766, 27520328944.941177, 27769951713.882355, 28051091576.47059, 28419878610.82353, 28863351506.82353, 29368963614.117645, 29914663755.294117, 30517961547.294117, 31136415864.47059, 31752897536.0, 32423653135.058823, 33065830159.058823, 33733396118.588234, 34309175296.0, 34892214452.70588, 35401500129.882355, 35847297807.05882, 36190022415.05882, 36455714695.52941, 36595936557.17647, 36619603847.52941, 36518517880.47059, 36293694162.82353, 35967218206.117645, 35506766305.882355, 34966254290.82353, 34346959872.0, 33646873720.47059, 32919510317.17647, 32152761163.294117, 31432529558.588234, 30717200384.0, 30025774320.941177, 29421976576.0, 28874956559.058823, 28383652502.588234, 27942878991.058823, 27602186420.705883, 27318530288.941177, 27108815269.64706, 26968677436.235294, 26864294912.0, 26824614731.294117, 26846001453.17647, 26910288293.64706, 27012505419.294117, 27154586563.764706, 27328957620.705883], [55127897429.333336, 55076268032.0, 55025384789.333336, 54965839872.0, 54897345877.333336, 54818699946.666664, 54728232960.0, 54623592448.0, 54502432085.333336, 54362089472.0, 54198022826.666664, 54005141504.0, 53783185408.0, 53533407232.0, 53254709248.0, 52945609386.666664, 52603942229.333336, 52227454293.333336, 51814465536.0, 51362581162.666664, 50870779221.333336, 50341084501.333336, 49772750165.333336, 49168039936.0, 48529605973.333336, 47858272938.666664, 47152585386.666664, 46410218837.333336, 45628652202.666664, 44814586538.666664, 43974649856.0, 43112826880.0, 42232610816.0, 41337065472.0, 40429623296.0, 39513610240.0, 38592620544.0, 37670091434.666664, 36749892949.333336, 35835862357.333336, 34932150954.666664, 34042821632.0, 33171850581.333332, 32323673088.0, 31502201514.666668, 30711896746.666668, 29956251648.0, 29239520597.333332, 28566434474.666668, 27942060714.666668, 27370586112.0, 26855218176.0, 26400053589.333332, 26007858517.333332, 25681808384.0, 25423905792.0, 25236308650.666668, 25120480597.333332, 25076970496.0, 25105835349.333332, 25206248106.666668, 25376717482.666668, 25614326442.666668, 25915454464.0, 26275607210.666668, 26689172480.0, 27149063850.666668, 27647988053.333332, 28176698368.0, 28724071765.333332, 29281530197.333332, 29836651520.0, 30379024725.333332, 30891531264.0, 31363321514.666668, 31780501162.666668, 32130143914.666668, 32396539904.0, 32573933568.0, 32649628330.666668, 32618944853.333332, 32480627029.333332, 32237629440.0, 31889983146.666668, 31452712618.666668, 30939671552.0, 30367545002.666668, 29757897045.333332, 29129450496.0, 28502817792.0, 27893481472.0, 27316719274.666668, 26785713152.0, 26308490240.0, 25891611648.0, 25539395584.0, 25253644629.333332, 25033530368.0, 24877329749.333332, 24782020949.333332, 24743853056.0, 24758541312.0, 24821419690.666668, 24927788373.333332, 25072954026.666668, 25252304554.666668, 25461465429.333332, 25696294912.0]]}\n",
      "Saving cache!\n",
      "Current primitives:\n",
      "{'epoch_i': 108, 'loss-history': [[56415029850.35294, 56361540547.76471, 56311842454.588234, 56256060114.82353, 56191308137.411766, 56117140058.35294, 56032325029.64706, 55933626849.882355, 55819893940.70588, 55687923952.94118, 55535569136.94118, 55355938816.0, 55145878708.70588, 54907567887.05882, 54640776854.588234, 54344956747.29412, 54016731497.411766, 53652801174.588234, 53256027316.70588, 52821646757.64706, 52343608982.588234, 51829835053.17647, 51277340431.05882, 50685483610.35294, 50061168158.117645, 49400745863.52941, 48710108461.17647, 47983253142.588234, 47220476024.47059, 46417181635.76471, 45590633773.17647, 44739568218.35294, 43866681103.05882, 42982413372.23529, 42083269330.82353, 41175785110.588234, 40262188815.05882, 39351686264.47059, 38441706375.52941, 37540321520.94118, 36648048278.588234, 35769302678.588234, 34915846505.411766, 34076255232.0, 33271828359.52941, 32482350260.705883, 31753824075.294117, 31065152692.705883, 30414478396.235294, 29797723557.64706, 29243499760.941177, 28773970100.705883, 28332841140.705883, 27989771264.0, 27688720082.82353, 27497599397.64706, 27352786763.294117, 27270752015.058823, 27279345965.17647, 27378395497.411766, 27520328944.941177, 27769951713.882355, 28051091576.47059, 28419878610.82353, 28863351506.82353, 29368963614.117645, 29914663755.294117, 30517961547.294117, 31136415864.47059, 31752897536.0, 32423653135.058823, 33065830159.058823, 33733396118.588234, 34309175296.0, 34892214452.70588, 35401500129.882355, 35847297807.05882, 36190022415.05882, 36455714695.52941, 36595936557.17647, 36619603847.52941, 36518517880.47059, 36293694162.82353, 35967218206.117645, 35506766305.882355, 34966254290.82353, 34346959872.0, 33646873720.47059, 32919510317.17647, 32152761163.294117, 31432529558.588234, 30717200384.0, 30025774320.941177, 29421976576.0, 28874956559.058823, 28383652502.588234, 27942878991.058823, 27602186420.705883, 27318530288.941177, 27108815269.64706, 26968677436.235294, 26864294912.0, 26824614731.294117, 26846001453.17647, 26910288293.64706, 27012505419.294117, 27154586563.764706, 27328957620.705883, 27523635862.588234], [55127897429.333336, 55076268032.0, 55025384789.333336, 54965839872.0, 54897345877.333336, 54818699946.666664, 54728232960.0, 54623592448.0, 54502432085.333336, 54362089472.0, 54198022826.666664, 54005141504.0, 53783185408.0, 53533407232.0, 53254709248.0, 52945609386.666664, 52603942229.333336, 52227454293.333336, 51814465536.0, 51362581162.666664, 50870779221.333336, 50341084501.333336, 49772750165.333336, 49168039936.0, 48529605973.333336, 47858272938.666664, 47152585386.666664, 46410218837.333336, 45628652202.666664, 44814586538.666664, 43974649856.0, 43112826880.0, 42232610816.0, 41337065472.0, 40429623296.0, 39513610240.0, 38592620544.0, 37670091434.666664, 36749892949.333336, 35835862357.333336, 34932150954.666664, 34042821632.0, 33171850581.333332, 32323673088.0, 31502201514.666668, 30711896746.666668, 29956251648.0, 29239520597.333332, 28566434474.666668, 27942060714.666668, 27370586112.0, 26855218176.0, 26400053589.333332, 26007858517.333332, 25681808384.0, 25423905792.0, 25236308650.666668, 25120480597.333332, 25076970496.0, 25105835349.333332, 25206248106.666668, 25376717482.666668, 25614326442.666668, 25915454464.0, 26275607210.666668, 26689172480.0, 27149063850.666668, 27647988053.333332, 28176698368.0, 28724071765.333332, 29281530197.333332, 29836651520.0, 30379024725.333332, 30891531264.0, 31363321514.666668, 31780501162.666668, 32130143914.666668, 32396539904.0, 32573933568.0, 32649628330.666668, 32618944853.333332, 32480627029.333332, 32237629440.0, 31889983146.666668, 31452712618.666668, 30939671552.0, 30367545002.666668, 29757897045.333332, 29129450496.0, 28502817792.0, 27893481472.0, 27316719274.666668, 26785713152.0, 26308490240.0, 25891611648.0, 25539395584.0, 25253644629.333332, 25033530368.0, 24877329749.333332, 24782020949.333332, 24743853056.0, 24758541312.0, 24821419690.666668, 24927788373.333332, 25072954026.666668, 25252304554.666668, 25461465429.333332, 25696294912.0, 25952721920.0]]}\n"
     ]
    },
    {
     "ename": "KeyboardInterrupt",
     "evalue": "",
     "output_type": "error",
     "traceback": [
      "\u001B[0;31m---------------------------------------------------------------------------\u001B[0m",
      "\u001B[0;31mKeyboardInterrupt\u001B[0m                         Traceback (most recent call last)",
      "Input \u001B[0;32mIn [22]\u001B[0m, in \u001B[0;36m<cell line: 1>\u001B[0;34m()\u001B[0m\n\u001B[0;32m----> 1\u001B[0m \u001B[43mrunner\u001B[49m\u001B[38;5;241;43m.\u001B[39;49m\u001B[43mrun\u001B[49m\u001B[43m(\u001B[49m\u001B[43mshow_freq\u001B[49m\u001B[38;5;241;43m=\u001B[39;49m\u001B[38;5;241;43m4\u001B[39;49m\u001B[43m)\u001B[49m\n",
      "File \u001B[0;32m~/myprojects/ML-Mnemonist/mlmnemonist/experiment_runner.py:121\u001B[0m, in \u001B[0;36mExperimentRunner.run\u001B[0;34m(self, *args, **kwargs)\u001B[0m\n\u001B[1;32m    119\u001B[0m \u001B[38;5;28mself\u001B[39m\u001B[38;5;241m.\u001B[39mrecurring_pipeline\u001B[38;5;241m.\u001B[39mrun(keep\u001B[38;5;241m=\u001B[39m\u001B[38;5;28;01mTrue\u001B[39;00m, verbose\u001B[38;5;241m=\u001B[39m\u001B[38;5;28mself\u001B[39m\u001B[38;5;241m.\u001B[39mverbose, runner\u001B[38;5;241m=\u001B[39m\u001B[38;5;28mself\u001B[39m)\n\u001B[1;32m    120\u001B[0m \u001B[38;5;28mself\u001B[39m\u001B[38;5;241m.\u001B[39mCACHE\u001B[38;5;241m.\u001B[39m_load_cache()\n\u001B[0;32m--> 121\u001B[0m ret \u001B[38;5;241m=\u001B[39m \u001B[38;5;28;43mself\u001B[39;49m\u001B[38;5;241;43m.\u001B[39;49m\u001B[43m_implemented_run\u001B[49m\u001B[43m(\u001B[49m\u001B[38;5;28;43mself\u001B[39;49m\u001B[43m,\u001B[49m\u001B[43m \u001B[49m\u001B[38;5;241;43m*\u001B[39;49m\u001B[43margs\u001B[49m\u001B[43m,\u001B[49m\u001B[43m \u001B[49m\u001B[38;5;241;43m*\u001B[39;49m\u001B[38;5;241;43m*\u001B[39;49m\u001B[43mkwargs\u001B[49m\u001B[43m)\u001B[49m\n\u001B[1;32m    123\u001B[0m \u001B[38;5;66;03m# Save configurations\u001B[39;00m\n\u001B[1;32m    124\u001B[0m \u001B[38;5;28;01mif\u001B[39;00m \u001B[38;5;28mself\u001B[39m\u001B[38;5;241m.\u001B[39mcfg \u001B[38;5;129;01mis\u001B[39;00m \u001B[38;5;129;01mnot\u001B[39;00m \u001B[38;5;28;01mNone\u001B[39;00m:\n",
      "Input \u001B[0;32mIn [21]\u001B[0m, in \u001B[0;36mmy_custom_run\u001B[0;34m(runner, show_freq)\u001B[0m\n\u001B[1;32m     33\u001B[0m loss_train \u001B[38;5;241m=\u001B[39m []\n\u001B[1;32m     34\u001B[0m my_model\u001B[38;5;241m.\u001B[39mtrain()\n\u001B[0;32m---> 35\u001B[0m \u001B[43mhelper\u001B[49m\u001B[43m(\u001B[49m\u001B[43mmy_model\u001B[49m\u001B[43m,\u001B[49m\u001B[43m \u001B[49m\u001B[43mrunner\u001B[49m\u001B[38;5;241;43m.\u001B[39;49m\u001B[43mtrain_X\u001B[49m\u001B[43m[\u001B[49m\u001B[43minds\u001B[49m\u001B[43m]\u001B[49m\u001B[43m,\u001B[49m\n\u001B[1;32m     36\u001B[0m \u001B[43m       \u001B[49m\u001B[43mrunner\u001B[49m\u001B[38;5;241;43m.\u001B[39;49m\u001B[43mtrain_Y\u001B[49m\u001B[43m[\u001B[49m\u001B[43minds\u001B[49m\u001B[43m]\u001B[49m\u001B[43m,\u001B[49m\u001B[43m \u001B[49m\u001B[43mloss_train\u001B[49m\u001B[43m,\u001B[49m\u001B[43m \u001B[49m\u001B[43mrunner\u001B[49m\u001B[38;5;241;43m.\u001B[39;49m\u001B[43mdevice\u001B[49m\u001B[43m,\u001B[49m\n\u001B[1;32m     37\u001B[0m \u001B[43m       \u001B[49m\u001B[43mrunner\u001B[49m\u001B[38;5;241;43m.\u001B[39;49m\u001B[43mcriterion\u001B[49m\u001B[43m,\u001B[49m\u001B[43m \u001B[49m\u001B[43mrunner\u001B[49m\u001B[38;5;241;43m.\u001B[39;49m\u001B[43moptim\u001B[49m\u001B[43m)\u001B[49m\n\u001B[1;32m     38\u001B[0m loss_history[\u001B[38;5;241m0\u001B[39m]\u001B[38;5;241m.\u001B[39mappend(\u001B[38;5;28msum\u001B[39m(loss_train) \u001B[38;5;241m/\u001B[39m \u001B[38;5;28mlen\u001B[39m(loss_train))\n\u001B[1;32m     40\u001B[0m loss_test \u001B[38;5;241m=\u001B[39m []\n",
      "Input \u001B[0;32mIn [21]\u001B[0m, in \u001B[0;36mhelper\u001B[0;34m(model, X, y, history, device, loss_fn, optimizer)\u001B[0m\n\u001B[1;32m      8\u001B[0m en \u001B[38;5;241m=\u001B[39m \u001B[38;5;28mmin\u001B[39m(st \u001B[38;5;241m+\u001B[39m \u001B[38;5;241m500\u001B[39m, X\u001B[38;5;241m.\u001B[39mshape[\u001B[38;5;241m0\u001B[39m])\n\u001B[1;32m      9\u001B[0m X_ \u001B[38;5;241m=\u001B[39m torch\u001B[38;5;241m.\u001B[39mfrom_numpy(X[st:en, :])\u001B[38;5;241m.\u001B[39mfloat()\u001B[38;5;241m.\u001B[39mto(device)\n\u001B[0;32m---> 10\u001B[0m pred \u001B[38;5;241m=\u001B[39m \u001B[43mmodel\u001B[49m\u001B[43m(\u001B[49m\u001B[43mX_\u001B[49m\u001B[43m)\u001B[49m\n\u001B[1;32m     11\u001B[0m y_ \u001B[38;5;241m=\u001B[39m torch\u001B[38;5;241m.\u001B[39mfrom_numpy(y[st:en])\u001B[38;5;241m.\u001B[39mfloat()\u001B[38;5;241m.\u001B[39mto(device)\n\u001B[1;32m     12\u001B[0m loss \u001B[38;5;241m=\u001B[39m loss_fn(pred\u001B[38;5;241m.\u001B[39msqueeze(), y_)\n",
      "File \u001B[0;32m~/.local/lib/python3.8/site-packages/torch/nn/modules/module.py:1110\u001B[0m, in \u001B[0;36mModule._call_impl\u001B[0;34m(self, *input, **kwargs)\u001B[0m\n\u001B[1;32m   1106\u001B[0m \u001B[38;5;66;03m# If we don't have any hooks, we want to skip the rest of the logic in\u001B[39;00m\n\u001B[1;32m   1107\u001B[0m \u001B[38;5;66;03m# this function, and just call forward.\u001B[39;00m\n\u001B[1;32m   1108\u001B[0m \u001B[38;5;28;01mif\u001B[39;00m \u001B[38;5;129;01mnot\u001B[39;00m (\u001B[38;5;28mself\u001B[39m\u001B[38;5;241m.\u001B[39m_backward_hooks \u001B[38;5;129;01mor\u001B[39;00m \u001B[38;5;28mself\u001B[39m\u001B[38;5;241m.\u001B[39m_forward_hooks \u001B[38;5;129;01mor\u001B[39;00m \u001B[38;5;28mself\u001B[39m\u001B[38;5;241m.\u001B[39m_forward_pre_hooks \u001B[38;5;129;01mor\u001B[39;00m _global_backward_hooks\n\u001B[1;32m   1109\u001B[0m         \u001B[38;5;129;01mor\u001B[39;00m _global_forward_hooks \u001B[38;5;129;01mor\u001B[39;00m _global_forward_pre_hooks):\n\u001B[0;32m-> 1110\u001B[0m     \u001B[38;5;28;01mreturn\u001B[39;00m \u001B[43mforward_call\u001B[49m\u001B[43m(\u001B[49m\u001B[38;5;241;43m*\u001B[39;49m\u001B[38;5;28;43minput\u001B[39;49m\u001B[43m,\u001B[49m\u001B[43m \u001B[49m\u001B[38;5;241;43m*\u001B[39;49m\u001B[38;5;241;43m*\u001B[39;49m\u001B[43mkwargs\u001B[49m\u001B[43m)\u001B[49m\n\u001B[1;32m   1111\u001B[0m \u001B[38;5;66;03m# Do not call functions when jit is used\u001B[39;00m\n\u001B[1;32m   1112\u001B[0m full_backward_hooks, non_full_backward_hooks \u001B[38;5;241m=\u001B[39m [], []\n",
      "Input \u001B[0;32mIn [15]\u001B[0m, in \u001B[0;36mMyMLP.forward\u001B[0;34m(self, x)\u001B[0m\n\u001B[1;32m     12\u001B[0m \u001B[38;5;28;01mdef\u001B[39;00m \u001B[38;5;21mforward\u001B[39m(\u001B[38;5;28mself\u001B[39m, x):\n\u001B[0;32m---> 13\u001B[0m     x \u001B[38;5;241m=\u001B[39m \u001B[38;5;28;43mself\u001B[39;49m\u001B[38;5;241;43m.\u001B[39;49m\u001B[43ml1\u001B[49m\u001B[43m(\u001B[49m\u001B[43mx\u001B[49m\u001B[43m)\u001B[49m\n\u001B[1;32m     14\u001B[0m     x \u001B[38;5;241m=\u001B[39m F\u001B[38;5;241m.\u001B[39mrelu(x)\n\u001B[1;32m     15\u001B[0m     x \u001B[38;5;241m=\u001B[39m \u001B[38;5;28mself\u001B[39m\u001B[38;5;241m.\u001B[39ml2(x)\n",
      "File \u001B[0;32m~/.local/lib/python3.8/site-packages/torch/nn/modules/module.py:1110\u001B[0m, in \u001B[0;36mModule._call_impl\u001B[0;34m(self, *input, **kwargs)\u001B[0m\n\u001B[1;32m   1106\u001B[0m \u001B[38;5;66;03m# If we don't have any hooks, we want to skip the rest of the logic in\u001B[39;00m\n\u001B[1;32m   1107\u001B[0m \u001B[38;5;66;03m# this function, and just call forward.\u001B[39;00m\n\u001B[1;32m   1108\u001B[0m \u001B[38;5;28;01mif\u001B[39;00m \u001B[38;5;129;01mnot\u001B[39;00m (\u001B[38;5;28mself\u001B[39m\u001B[38;5;241m.\u001B[39m_backward_hooks \u001B[38;5;129;01mor\u001B[39;00m \u001B[38;5;28mself\u001B[39m\u001B[38;5;241m.\u001B[39m_forward_hooks \u001B[38;5;129;01mor\u001B[39;00m \u001B[38;5;28mself\u001B[39m\u001B[38;5;241m.\u001B[39m_forward_pre_hooks \u001B[38;5;129;01mor\u001B[39;00m _global_backward_hooks\n\u001B[1;32m   1109\u001B[0m         \u001B[38;5;129;01mor\u001B[39;00m _global_forward_hooks \u001B[38;5;129;01mor\u001B[39;00m _global_forward_pre_hooks):\n\u001B[0;32m-> 1110\u001B[0m     \u001B[38;5;28;01mreturn\u001B[39;00m \u001B[43mforward_call\u001B[49m\u001B[43m(\u001B[49m\u001B[38;5;241;43m*\u001B[39;49m\u001B[38;5;28;43minput\u001B[39;49m\u001B[43m,\u001B[49m\u001B[43m \u001B[49m\u001B[38;5;241;43m*\u001B[39;49m\u001B[38;5;241;43m*\u001B[39;49m\u001B[43mkwargs\u001B[49m\u001B[43m)\u001B[49m\n\u001B[1;32m   1111\u001B[0m \u001B[38;5;66;03m# Do not call functions when jit is used\u001B[39;00m\n\u001B[1;32m   1112\u001B[0m full_backward_hooks, non_full_backward_hooks \u001B[38;5;241m=\u001B[39m [], []\n",
      "File \u001B[0;32m~/.local/lib/python3.8/site-packages/torch/nn/modules/linear.py:103\u001B[0m, in \u001B[0;36mLinear.forward\u001B[0;34m(self, input)\u001B[0m\n\u001B[1;32m    102\u001B[0m \u001B[38;5;28;01mdef\u001B[39;00m \u001B[38;5;21mforward\u001B[39m(\u001B[38;5;28mself\u001B[39m, \u001B[38;5;28minput\u001B[39m: Tensor) \u001B[38;5;241m-\u001B[39m\u001B[38;5;241m>\u001B[39m Tensor:\n\u001B[0;32m--> 103\u001B[0m     \u001B[38;5;28;01mreturn\u001B[39;00m \u001B[43mF\u001B[49m\u001B[38;5;241;43m.\u001B[39;49m\u001B[43mlinear\u001B[49m\u001B[43m(\u001B[49m\u001B[38;5;28;43minput\u001B[39;49m\u001B[43m,\u001B[49m\u001B[43m \u001B[49m\u001B[38;5;28;43mself\u001B[39;49m\u001B[38;5;241;43m.\u001B[39;49m\u001B[43mweight\u001B[49m\u001B[43m,\u001B[49m\u001B[43m \u001B[49m\u001B[38;5;28;43mself\u001B[39;49m\u001B[38;5;241;43m.\u001B[39;49m\u001B[43mbias\u001B[49m\u001B[43m)\u001B[49m\n",
      "\u001B[0;31mKeyboardInterrupt\u001B[0m: "
     ]
    }
   ],
   "source": [
    "runner.run(show_freq=4)"
   ]
  },
  {
   "cell_type": "markdown",
   "metadata": {
    "id": "L-AqjwHsjpML"
   },
   "source": [
    "# Run even after the session is closed\n",
    "\n",
    "Each runner has a cache token associated with it. You can checkout your runner's token using the following function:"
   ]
  },
  {
   "cell_type": "code",
   "execution_count": 21,
   "metadata": {
    "colab": {
     "base_uri": "https://localhost:8080/",
     "height": 36
    },
    "id": "OSKZn4j_jrmH",
    "outputId": "1dcbf48e-5a07-4b5f-db50-17d2e614723f"
   },
   "outputs": [
    {
     "data": {
      "application/vnd.google.colaboratory.intrinsic+json": {
       "type": "string"
      },
      "text/plain": [
       "'tok-227'"
      ]
     },
     "execution_count": 21,
     "metadata": {},
     "output_type": "execute_result"
    }
   ],
   "source": [
    "runner.CACHE.TOKEN"
   ]
  },
  {
   "cell_type": "markdown",
   "metadata": {
    "id": "M6sVSjy_j5hh"
   },
   "source": [
    "Now re-run your session and when you are creating a runner use the token in the `cache_token=YOUR_TOKEN` variable. That way, when you call `load_cache()` or whenever you re-run the `run()` function. All the variables that have been cached will be reloaded again."
   ]
  }
 ],
 "metadata": {
  "colab": {
   "collapsed_sections": [],
   "include_colab_link": true,
   "name": "ExperimentRunnerTutorial.ipynb",
   "provenance": []
  },
  "gpuClass": "standard",
  "kernelspec": {
   "display_name": "Python 3 (ipykernel)",
   "language": "python",
   "name": "python3"
  },
  "language_info": {
   "codemirror_mode": {
    "name": "ipython",
    "version": 3
   },
   "file_extension": ".py",
   "mimetype": "text/x-python",
   "name": "python",
   "nbconvert_exporter": "python",
   "pygments_lexer": "ipython3",
   "version": "3.8.10"
  }
 },
 "nbformat": 4,
 "nbformat_minor": 1
}