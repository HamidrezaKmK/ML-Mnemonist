{
  "nbformat": 4,
  "nbformat_minor": 0,
  "metadata": {
    "colab": {
      "name": "dental-runtime-test.ipynb",
      "provenance": [],
      "collapsed_sections": []
    },
    "kernelspec": {
      "name": "python3",
      "display_name": "Python 3"
    },
    "language_info": {
      "name": "python"
    },
    "gpuClass": "standard"
  },
  "cells": [
    {
      "cell_type": "markdown",
      "source": [
        "# Setup hosted runtime"
      ],
      "metadata": {
        "id": "rE6olttuFV0Q"
      }
    },
    {
      "cell_type": "code",
      "execution_count": null,
      "metadata": {
        "colab": {
          "base_uri": "https://localhost:8080/"
        },
        "id": "eOfp_NGbT1jZ",
        "outputId": "f057d91e-a2c2-43a3-f2dd-222ce1b74fb4"
      },
      "outputs": [
        {
          "output_type": "stream",
          "name": "stdout",
          "text": [
            "Writing sys_setup.py\n"
          ]
        }
      ],
      "source": [
        "%%writefile sys_setup.py\n",
        "#!usr/bin/bash python\n",
        "\n",
        "import sys\n",
        "from google.colab import drive\n",
        "import subprocess\n",
        "import os\n",
        "import shutil\n",
        "\n",
        "PROJ_NAME = 'dental'\n",
        "GIT_DIR = 'zlab-foss'\n",
        "\n",
        "data_dir = None\n",
        "\n",
        "if __name__ == '__main__':\n",
        "  env = os.environ.copy()\n",
        "  if not os.path.exists('/content/drive'):\n",
        "    print(\"Mounting drive...\")\n",
        "    drive.mount('/content/drive')\n",
        "    print(\"Mount complete!\")\n",
        "\n",
        "  while True:\n",
        "    opt = input(\"What are you trying to do? [clone/pull] \")\n",
        "    if opt == 'clone':\n",
        "      addr = f\"https://[TOKEN]@github.com/{GIT_DIR}/{PROJ_NAME}\"\n",
        "      print(f\"Trying to connect to {addr}\")\n",
        "      token = input(\"Enter token: \")\n",
        "      addr = addr.replace('[TOKEN]', token)\n",
        "      res = subprocess.run(['git', 'clone', addr], env=env, capture_output=True)\n",
        "      print(res.stdout.decode())\n",
        "      print(res.stderr.decode())\n",
        "      break\n",
        "    elif opt == 'pull':\n",
        "      path = os.path.join('/content', PROJ_NAME)\n",
        "      os.chdir(path)\n",
        "      res = subprocess.run(['git', 'pull'], env=env, capture_output=True)\n",
        "      print(res.stdout.decode())\n",
        "      print(res.stderr.decode())\n",
        "      break\n",
        "    elif opt == '':\n",
        "      print(\"Nothing happened!\")\n",
        "      break\n",
        "  \n",
        "  if not os.path.exists(f'/content/{PROJ_NAME}'):\n",
        "    raise RuntimeError(\"No project repository available!\")\n",
        "\n",
        "  if not os.path.exists(f'/content/{PROJ_NAME}/.env'):\n",
        "    print(\"Dotenv non-existant!\")\n",
        "    while True:\n",
        "      resp = input(\"Do you want to enter the file in the prompt or copy it?\\n[copy/write] \")\n",
        "      if resp == 'copy':\n",
        "        dir = input(\"Enter the directory to copy: \")\n",
        "        shutil.copyfile(dir, f'/content/{PROJ_NAME}/.env')\n",
        "      elif resp == 'write':\n",
        "        print(\"Enter the lines in format ENV_VARIABLE_NAME=VALUE\")\n",
        "        print(\"End with: ENDFILE\")\n",
        "        with open(f'/content/{PROJ_NAME}/.env', 'w') as f:\n",
        "          while True:\n",
        "            line = input()\n",
        "            if line == 'ENDFILE':\n",
        "              break\n",
        "            f.write(f'{line}\\n')\n",
        "      else:\n",
        "        continue\n",
        "      break\n",
        "        \n",
        "  os.chdir('/content')\n"
      ]
    },
    {
      "cell_type": "code",
      "source": [
        "PROJ_NAME = 'dental'\n",
        "\n",
        "from IPython.display import clear_output\n",
        "%run /content/sys_setup.py\n",
        "resp = input(\"Do you want to install packages? [y/n] \")\n",
        "if resp == 'y':\n",
        "  !pip install -r /content/dental/requirements.txt\n",
        "  input(\"Requrements installed! -- press any key to continue ...\")\n",
        "clear_output()\n",
        "\n",
        "import sys\n",
        "sys.path.append(f'/content/{PROJ_NAME}')\n",
        "os.chdir(f'/content/{PROJ_NAME}')\n",
        "print(\"Running complete!\")"
      ],
      "metadata": {
        "id": "mzkBQqSLUWC3"
      },
      "execution_count": null,
      "outputs": []
    },
    {
      "cell_type": "markdown",
      "source": [
        "# Experiment runner"
      ],
      "metadata": {
        "id": "iNiIuYQbWti3"
      }
    },
    {
      "cell_type": "markdown",
      "source": [
        "Create a runner factory. This factory has the ability to create your runners. The factory automatically fills up the environment variables using the `.env` file provided. \n",
        "\n",
        "It fills up the following:\n",
        "- `config_dir`: A path containing all your configuration `yaml` files.\n",
        "- `experiment_dir`: A path containing all your experiments. The result of all the experiments will be stored as directories in this path.\n",
        "- `checkpoint_dir`: A path containing all the model checkpoints which is used for cached run functions."
      ],
      "metadata": {
        "id": "_FxBXOOvtLWC"
      }
    },
    {
      "cell_type": "code",
      "source": [
        "from src.tools.experiment_factory import ExperimentRunnerFactory\n",
        "\n",
        "factory = ExperimentRunnerFactory()\n"
      ],
      "metadata": {
        "id": "azqIcguUWxka"
      },
      "execution_count": 1,
      "outputs": []
    },
    {
      "cell_type": "code",
      "source": [
        "runner = factory.create(cfg_dir='conf-test.yaml',experiment_name='my_first_experiment', verbose=1)\n"
      ],
      "metadata": {
        "id": "2Eh4tGm5XTOR"
      },
      "execution_count": 2,
      "outputs": []
    },
    {
      "cell_type": "code",
      "source": [
        "print(runner)"
      ],
      "metadata": {
        "colab": {
          "base_uri": "https://localhost:8080/"
        },
        "id": "Hq7nSM-f8ehy",
        "outputId": "d664a464-c245-4f2e-82c5-3f788866bdc4"
      },
      "execution_count": 3,
      "outputs": [
        {
          "output_type": "stream",
          "name": "stdout",
          "text": [
            "Experiment runner of type: <class 'src.tools.experiment_runner.ExperimentRunner'>\n",
            "\t - cache token: tok-85\n",
            "\t - configurations at: /run/user/1000/gvfs/google-drive:host=gmail.com,user=hamidrezakamkari/WORK/Dental/experiments/conf-test.yaml\n",
            "\t - preprocessings functions []\n",
            "\t - Run function not implemented!\n"
          ]
        }
      ]
    },
    {
      "cell_type": "markdown",
      "source": [
        "# Run a simple linear regression program\n",
        "\n"
      ],
      "metadata": {
        "id": "U_PEvAX89xMs"
      }
    },
    {
      "cell_type": "code",
      "source": [
        "from src.tools.experiment_runner import ExperimentRunner\n",
        "import pandas as pd\n",
        "import os"
      ],
      "metadata": {
        "id": "GFRWSI6F_Af_"
      },
      "execution_count": 4,
      "outputs": []
    },
    {
      "cell_type": "code",
      "source": [
        "runner.clear_preprocessing_functions()"
      ],
      "metadata": {
        "id": "fQaHIvGQ_3YG"
      },
      "execution_count": 5,
      "outputs": []
    },
    {
      "cell_type": "code",
      "source": [
        "\n",
        "def load_raw_data(runner: ExperimentRunner):\n",
        "  train_name = runner.cfg.DATASET.TRAIN_NAME\n",
        "  test_name = runner.cfg.DATASET.TEST_NAME\n",
        "  runner.train_df = pd.read_csv(os.path.join(runner.data_dir, train_name))\n",
        "  runner.test_df = pd.read_csv(os.path.join(runner.data_dir, test_name))\n",
        "runner.update_preprocessing_function(load_raw_data)"
      ],
      "metadata": {
        "id": "PhuvzGFG-86Z"
      },
      "execution_count": 6,
      "outputs": []
    },
    {
      "cell_type": "code",
      "source": [
        "def process_data(runner: ExperimentRunner):\n",
        "  runner.train_X = runner.train_df.drop(columns='median_house_value').to_numpy()\n",
        "  runner.train_Y = runner.train_df['median_house_value'].to_numpy()\n",
        "  runner.test_X = runner.test_df.drop(columns='median_house_value').to_numpy()\n",
        "  runner.test_Y = runner.test_df['median_house_value'].to_numpy()\n",
        "runner.update_preprocessing_function(process_data)"
      ],
      "metadata": {
        "id": "3Vo6EsKg_jmk"
      },
      "execution_count": 7,
      "outputs": []
    },
    {
      "cell_type": "code",
      "source": [
        "print(runner)"
      ],
      "metadata": {
        "colab": {
          "base_uri": "https://localhost:8080/"
        },
        "id": "PuGBf7CgAuwB",
        "outputId": "664abd9b-cbb5-4880-e742-4d4c5d5a00b3"
      },
      "execution_count": 8,
      "outputs": [
        {
          "output_type": "stream",
          "name": "stdout",
          "text": [
            "Experiment runner of type: <class 'src.tools.experiment_runner.ExperimentRunner'>\n",
            "\t - cache token: tok-85\n",
            "\t - configurations at: /run/user/1000/gvfs/google-drive:host=gmail.com,user=hamidrezakamkari/WORK/Dental/experiments/conf-test.yaml\n",
            "\t - preprocessings functions ['load_raw_data', 'process_data']\n",
            "\t - Run function not implemented!\n"
          ]
        }
      ]
    },
    {
      "cell_type": "code",
      "source": [
        "# Run the functions in line\n",
        "runner.preprocess()"
      ],
      "metadata": {
        "colab": {
          "base_uri": "https://localhost:8080/"
        },
        "id": "o9XySh8pBGwz",
        "outputId": "ae6ffd28-9629-408b-8935-3fbd52b45b17"
      },
      "execution_count": 9,
      "outputs": [
        {
          "output_type": "stream",
          "name": "stdout",
          "text": [
            "[0/2] Running load_raw_data ...\n",
            "[1/2] Running process_data ...\n"
          ]
        }
      ]
    },
    {
      "cell_type": "markdown",
      "source": [
        "## Create a model\n",
        "\n",
        "All models are stored in the `src.modeling` directory. Each modeling file should contain a registry that will give us access to different model types using a configuration. \n",
        "\n",
        "For example, in `conf-test.yaml` we defined an MLP with 3 layers and certain hyper parameters. The following functions are part of preprocessing and setup our model.\n"
      ],
      "metadata": {
        "id": "dXriKjd6IaYC"
      }
    },
    {
      "cell_type": "code",
      "source": [
        "from src.modeling.mlp_models import MLP_REGISTRY\n",
        "\n",
        "def setup_model(runner: ExperimentRunner):\n",
        "  # extract the method from config\n",
        "  method = runner.cfg.SOLVER.METHOD\n",
        "  # construct the model from registry\n",
        "  my_model = MLP_REGISTRY[method](runner.cfg.MODEL.HYPER_PARAMETERS)\n",
        "  # set the function in the cache to save weights\n",
        "  runner.CACHE.SET_M('mlp-key', my_model)\n",
        "runner.update_preprocessing_function(setup_model)"
      ],
      "metadata": {
        "id": "ort8OLJRIeUQ"
      },
      "execution_count": 67,
      "outputs": []
    },
    {
      "cell_type": "code",
      "source": [
        "import torch\n",
        "def setup_device(runner: ExperimentRunner):\n",
        "  # extract the device from config\n",
        "  device = runner.cfg.SOLVER.DEVICE\n",
        "  if device == 'cpu':\n",
        "    runner.device = torch.device('cpu')\n",
        "  elif device == 'cuda' and torch.cuda.is_available():\n",
        "    runner.device = torch.device('cuda')\n",
        "  else:\n",
        "    raise NotImplementedError(f\"device {device} is not implemented!\")\n",
        "  my_model = runner.CACHE.GET_M('mlp-key').to(runner.device)\n",
        "  if runner.verbose > 0:\n",
        "    print(\"Printing the model state_dict\")\n",
        "    print(my_model)\n",
        "runner.update_preprocessing_function(setup_device)"
      ],
      "metadata": {
        "id": "2DdIqwaOSRlR"
      },
      "execution_count": 68,
      "outputs": []
    },
    {
      "cell_type": "code",
      "source": [
        "import torch\n",
        "import torch.nn as nn\n",
        "\n",
        "def setup_training(runner: ExperimentRunner):\n",
        "  my_model = runner.CACHE.GET_M('mlp-key').to(runner.device)\n",
        "  runner.criterion = nn.MSELoss()\n",
        "  if runner.cfg.SOLVER.OPTIMIZER_TYPE == 'adam':\n",
        "    runner.optim = torch.optim.Adam(my_model.parameters(), lr=runner.cfg.SOLVER.LR)\n",
        "  else:\n",
        "    raise NotImplementedError(f\"Optimizer type not implemented\"\n",
        "                              f\"{runner.cfg.SOLVER.OPTIMIZER_TYPE}\")\n",
        "runner.update_preprocessing_function(setup_training)"
      ],
      "metadata": {
        "id": "sGhQ3LKcS-dC"
      },
      "execution_count": 69,
      "outputs": []
    },
    {
      "cell_type": "code",
      "source": [
        "print(runner)"
      ],
      "metadata": {
        "colab": {
          "base_uri": "https://localhost:8080/"
        },
        "id": "wfGES-SIU6Md",
        "outputId": "49972394-86ac-4bcf-e31c-8d52f4754f84"
      },
      "execution_count": 70,
      "outputs": [
        {
          "output_type": "stream",
          "name": "stdout",
          "text": [
            "Experiment runner of type: <class 'src.tools.experiment_runner.ExperimentRunner'>\n",
            "\t - cache token: tok-85\n",
            "\t - configurations at: /run/user/1000/gvfs/google-drive:host=gmail.com,user=hamidrezakamkari/WORK/Dental/experiments/conf-test.yaml\n",
            "\t - preprocessings functions ['setup_model', 'setup_device', 'setup_training']\n",
            "\t - Run function: my_custom_run\n",
            "\n"
          ]
        }
      ]
    },
    {
      "cell_type": "code",
      "source": [
        "runner.preprocess(keep=True)"
      ],
      "metadata": {
        "colab": {
          "base_uri": "https://localhost:8080/"
        },
        "id": "rXyxgSfAUjxQ",
        "outputId": "2d61106d-a247-4704-a68f-b449f01fd155"
      },
      "execution_count": 115,
      "outputs": [
        {
          "output_type": "stream",
          "name": "stdout",
          "text": [
            "[0/3] Running setup_model ...\n",
            "[1/3] Running setup_device ...\n",
            "Printing the model state_dict\n",
            "MyMLP2(\n",
            "  (l1): Linear(in_features=8, out_features=100, bias=True)\n",
            "  (l2): Linear(in_features=100, out_features=200, bias=True)\n",
            "  (l3): Linear(in_features=200, out_features=1, bias=True)\n",
            ")\n",
            "[2/3] Running setup_training ...\n"
          ]
        }
      ]
    },
    {
      "cell_type": "markdown",
      "source": [
        "# Implement a run function\n",
        "\n",
        "A run function is the core part of an experiment. This function takes in an input of type `ExperimentRunner` type is its first element and a bunch of arbitrary input types for the rest.\n"
      ],
      "metadata": {
        "id": "57mO42YpH-Ck"
      }
    },
    {
      "cell_type": "code",
      "source": [
        "runner.CACHE.reset_cache(prompt=False)"
      ],
      "metadata": {
        "id": "ajq3MZ0bhlxG"
      },
      "execution_count": 114,
      "outputs": []
    },
    {
      "cell_type": "code",
      "source": [
        "from tqdm import tqdm\n",
        "from IPython.display import clear_output\n",
        "import matplotlib.pyplot as plt\n",
        "import numpy as np\n",
        "\n",
        "def helper(model, X, y, history, device, loss_fn, optimizer=None):\n",
        "  for st in range(0, X.shape[0], 500):\n",
        "    en = min(st + 500, X.shape[0])\n",
        "    X_ = torch.from_numpy(X[st:en, :]).float().to(device)\n",
        "    pred = model(X_)\n",
        "    y_ = torch.from_numpy(y[st:en]).float().to(device)\n",
        "    loss = loss_fn(pred.squeeze(), y_)\n",
        "    if optimizer is not None:\n",
        "      loss.backward()\n",
        "      optimizer.step()\n",
        "    history.append(loss.detach().cpu())\n",
        "    \n",
        "def my_custom_run(runner: ExperimentRunner, show_freq=50):\n",
        "  # Get model from cache\n",
        "  my_model = runner.CACHE.GET_M('mlp-key')\n",
        "\n",
        "  # Get the epoch number and history from cache\n",
        "  # if it is not cached from before set it to zero\n",
        "  epoch_i = runner.CACHE.SET_IFN('epoch_i', 0)\n",
        "  loss_history = runner.CACHE.SET_IFN('loss-history', [[], []])\n",
        "  for epoch_i in range(epoch_i, 10000):\n",
        "\n",
        "    inds = np.arange(runner.train_X.shape[0])\n",
        "    np.random.shuffle(inds)\n",
        "\n",
        "    loss_train = []\n",
        "    my_model.train()\n",
        "    helper(my_model, runner.train_X[inds],\n",
        "           runner.train_Y[inds], loss_train, runner.device,\n",
        "           runner.criterion, runner.optim)\n",
        "    loss_history[0].append(sum(loss_train) / len(loss_train))\n",
        "\n",
        "    loss_test = []\n",
        "    my_model.eval()\n",
        "    with torch.no_grad():\n",
        "      helper(my_model, runner.test_X,\n",
        "            runner.test_Y, loss_test, runner.device,\n",
        "            runner.criterion)\n",
        "    loss_history[1].append(sum(loss_test) / len(loss_test))\n",
        "    \n",
        "    if (epoch_i + 1) % show_freq == 0:\n",
        "      clear_output()\n",
        "      plt.plot(list(range(len(loss_history[0]))), loss_history[0], label='loss-train')\n",
        "      plt.plot(list(range(len(loss_history[1]))), loss_history[1], label='loss-test')\n",
        "      plt.legend()\n",
        "      plt.show()\n",
        "\n",
        "    # Caching and saving checkpoints\n",
        "    runner.CACHE.SET('epoch_i', epoch_i)\n",
        "    runner.CACHE.SET('loss-history', loss_history)\n",
        "    runner.CACHE.SET_M('mlp-key', my_model)\n",
        "    runner.CACHE.SAVE()\n",
        "\n",
        "runner.implement_run(my_custom_run)"
      ],
      "metadata": {
        "id": "0il8pIX8H_uz"
      },
      "execution_count": 116,
      "outputs": []
    },
    {
      "cell_type": "markdown",
      "source": [
        "Run the following function to see the training and validation loss.\n",
        "Interrupt the process for as many times as you like and re-run it. Since the code supports caching, it will continue right off where it last ended."
      ],
      "metadata": {
        "id": "cc8aGQq_jDAG"
      }
    },
    {
      "cell_type": "code",
      "source": [
        "runner.run(show_freq=4)"
      ],
      "metadata": {
        "colab": {
          "base_uri": "https://localhost:8080/",
          "height": 876
        },
        "id": "p6IKYVw7dKBo",
        "outputId": "a9f9afc5-9258-4f11-a8ff-1edd1cecff68"
      },
      "execution_count": 117,
      "outputs": [
        {
          "output_type": "display_data",
          "data": {
            "text/plain": [
              "<Figure size 432x288 with 1 Axes>"
            ],
            "image/png": "[encoded data removed]"
          },
          "metadata": {
            "needs_background": "light"
          }
        },
        {
          "output_type": "error",
          "ename": "KeyboardInterrupt",
          "evalue": "ignored",
          "traceback": [
            "\u001b[0;31m---------------------------------------------------------------------------\u001b[0m",
            "\u001b[0;31mKeyboardInterrupt\u001b[0m                         Traceback (most recent call last)",
            "Input \u001b[0;32mIn [117]\u001b[0m, in \u001b[0;36m<cell line: 1>\u001b[0;34m()\u001b[0m\n\u001b[0;32m----> 1\u001b[0m \u001b[43mrunner\u001b[49m\u001b[38;5;241;43m.\u001b[39;49m\u001b[43mrun\u001b[49m\u001b[43m(\u001b[49m\u001b[43mshow_freq\u001b[49m\u001b[38;5;241;43m=\u001b[39;49m\u001b[38;5;241;43m4\u001b[39;49m\u001b[43m)\u001b[49m\n",
            "File \u001b[0;32m~/Fanap/gitrep/dental/src/tools/experiment_runner.py:252\u001b[0m, in \u001b[0;36mExperimentRunner.run\u001b[0;34m(self, pipeline, *args, **kwargs)\u001b[0m\n\u001b[1;32m    250\u001b[0m         f(\u001b[38;5;28mself\u001b[39m)\n\u001b[1;32m    251\u001b[0m \u001b[38;5;28mself\u001b[39m\u001b[38;5;241m.\u001b[39mCACHE\u001b[38;5;241m.\u001b[39mload_cache()\n\u001b[0;32m--> 252\u001b[0m ret \u001b[38;5;241m=\u001b[39m \u001b[38;5;28;43mself\u001b[39;49m\u001b[38;5;241;43m.\u001b[39;49m\u001b[43m_implemented_run\u001b[49m\u001b[43m(\u001b[49m\u001b[38;5;28;43mself\u001b[39;49m\u001b[43m,\u001b[49m\u001b[43m \u001b[49m\u001b[38;5;241;43m*\u001b[39;49m\u001b[43margs\u001b[49m\u001b[43m,\u001b[49m\u001b[43m \u001b[49m\u001b[38;5;241;43m*\u001b[39;49m\u001b[38;5;241;43m*\u001b[39;49m\u001b[43mkwargs\u001b[49m\u001b[43m)\u001b[49m\n\u001b[1;32m    253\u001b[0m name \u001b[38;5;241m=\u001b[39m \u001b[38;5;124m'\u001b[39m\u001b[38;5;124m.\u001b[39m\u001b[38;5;124m'\u001b[39m\u001b[38;5;241m.\u001b[39mjoin(os\u001b[38;5;241m.\u001b[39mpath\u001b[38;5;241m.\u001b[39mbasename(\u001b[38;5;28mself\u001b[39m\u001b[38;5;241m.\u001b[39mcfg_path)\u001b[38;5;241m.\u001b[39msplit(\u001b[38;5;124m'\u001b[39m\u001b[38;5;124m.\u001b[39m\u001b[38;5;124m'\u001b[39m)[:\u001b[38;5;241m-\u001b[39m\u001b[38;5;241m1\u001b[39m])\n\u001b[1;32m    254\u001b[0m \u001b[38;5;28mself\u001b[39m\u001b[38;5;241m.\u001b[39mcfg\u001b[38;5;241m.\u001b[39mdump(\n\u001b[1;32m    255\u001b[0m     stream\u001b[38;5;241m=\u001b[39m\u001b[38;5;28mopen\u001b[39m(os\u001b[38;5;241m.\u001b[39mpath\u001b[38;5;241m.\u001b[39mjoin(\u001b[38;5;28mself\u001b[39m\u001b[38;5;241m.\u001b[39mexperiment_dir, \u001b[38;5;124mf\u001b[39m\u001b[38;5;124m'\u001b[39m\u001b[38;5;132;01m{\u001b[39;00mname\u001b[38;5;132;01m}\u001b[39;00m\u001b[38;5;124m-output.yaml\u001b[39m\u001b[38;5;124m'\u001b[39m), \u001b[38;5;124m'\u001b[39m\u001b[38;5;124mw\u001b[39m\u001b[38;5;124m'\u001b[39m))\n",
            "Input \u001b[0;32mIn [116]\u001b[0m, in \u001b[0;36mmy_custom_run\u001b[0;34m(runner, show_freq)\u001b[0m\n\u001b[1;32m     55\u001b[0m runner\u001b[38;5;241m.\u001b[39mCACHE\u001b[38;5;241m.\u001b[39mSET(\u001b[38;5;124m'\u001b[39m\u001b[38;5;124mloss-history\u001b[39m\u001b[38;5;124m'\u001b[39m, loss_history)\n\u001b[1;32m     56\u001b[0m runner\u001b[38;5;241m.\u001b[39mCACHE\u001b[38;5;241m.\u001b[39mSET_M(\u001b[38;5;124m'\u001b[39m\u001b[38;5;124mmlp-key\u001b[39m\u001b[38;5;124m'\u001b[39m, my_model)\n\u001b[0;32m---> 57\u001b[0m \u001b[43mrunner\u001b[49m\u001b[38;5;241;43m.\u001b[39;49m\u001b[43mCACHE\u001b[49m\u001b[38;5;241;43m.\u001b[39;49m\u001b[43mSAVE\u001b[49m\u001b[43m(\u001b[49m\u001b[43m)\u001b[49m\n",
            "File \u001b[0;32m~/Fanap/gitrep/dental/src/tools/experiment_runner.py:65\u001b[0m, in \u001b[0;36mRunnerCache.SAVE\u001b[0;34m(self)\u001b[0m\n\u001b[1;32m     61\u001b[0m \u001b[38;5;124;03m\"\"\"\u001b[39;00m\n\u001b[1;32m     62\u001b[0m \u001b[38;5;124;03mSave the whole cache into the disk.\u001b[39;00m\n\u001b[1;32m     63\u001b[0m \u001b[38;5;124;03m\"\"\"\u001b[39;00m\n\u001b[1;32m     64\u001b[0m \u001b[38;5;66;03m# Save the primitives\u001b[39;00m\n\u001b[0;32m---> 65\u001b[0m \u001b[38;5;28;01mwith\u001b[39;00m \u001b[38;5;28mopen\u001b[39m(os\u001b[38;5;241m.\u001b[39mpath\u001b[38;5;241m.\u001b[39mjoin(\u001b[38;5;28mself\u001b[39m\u001b[38;5;241m.\u001b[39mdirectory, \u001b[38;5;124mf\u001b[39m\u001b[38;5;124m'\u001b[39m\u001b[38;5;132;01m{\u001b[39;00m\u001b[38;5;28mself\u001b[39m\u001b[38;5;241m.\u001b[39mcache_token\u001b[38;5;132;01m}\u001b[39;00m\u001b[38;5;124m-runner_checkpoint_primitives.pkl\u001b[39m\u001b[38;5;124m'\u001b[39m), \u001b[38;5;124m'\u001b[39m\u001b[38;5;124mwb\u001b[39m\u001b[38;5;124m'\u001b[39m) \u001b[38;5;28;01mas\u001b[39;00m f:\n\u001b[1;32m     66\u001b[0m     pickle\u001b[38;5;241m.\u001b[39mdump(\u001b[38;5;28mself\u001b[39m\u001b[38;5;241m.\u001b[39m_cached_primitives, f)\n\u001b[1;32m     68\u001b[0m \u001b[38;5;66;03m# Save all of the current models\u001b[39;00m\n",
            "\u001b[0;31mKeyboardInterrupt\u001b[0m: "
          ]
        }
      ]
    },
    {
      "cell_type": "markdown",
      "source": [
        "# Run even after the session is closed\n",
        "\n",
        "Each runner has a cache token associated with it. You can checkout your runner's token using the following function:"
      ],
      "metadata": {
        "id": "L-AqjwHsjpML"
      }
    },
    {
      "cell_type": "code",
      "source": [
        "runner.CACHE.cache_token"
      ],
      "metadata": {
        "colab": {
          "base_uri": "https://localhost:8080/"
        },
        "id": "OSKZn4j_jrmH",
        "outputId": "db7bb52b-ea96-42d1-d3e2-81a567af3a29"
      },
      "execution_count": 92,
      "outputs": [
        {
          "output_type": "execute_result",
          "data": {
            "text/plain": [
              "'tok-85'"
            ]
          },
          "metadata": {},
          "execution_count": 92
        }
      ]
    },
    {
      "cell_type": "markdown",
      "source": [
        "Now re-run your session and when you are creating a runner use the token in the `cache_token=YOUR_TOKEN` variable. That way, when you call `load_cache()` or whenever you re-run the `run()` function. All the variables that have been cached will be reloaded again."
      ],
      "metadata": {
        "id": "M6sVSjy_j5hh"
      }
    }
  ]
}