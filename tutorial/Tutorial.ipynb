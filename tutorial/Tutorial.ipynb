{
 "cells": [
  {
   "cell_type": "markdown",
   "metadata": {
    "colab_type": "text",
    "id": "view-in-github",
    "pycharm": {
     "name": "#%% md\n"
    }
   },
   "source": [
    "<a href=\"https://colab.research.google.com/github/HamidrezaKmK/ML-Mnemonist/blob/main/ExperimentRunnerTutorial.ipynb\" target=\"_parent\"><img src=\"https://colab.research.google.com/assets/colab-badge.svg\" alt=\"Open In Colab\"/></a>"
   ]
  },
  {
   "cell_type": "markdown",
   "metadata": {
    "collapsed": false,
    "pycharm": {
     "name": "#%% md\n"
    }
   },
   "source": [
    "The following set of instructions can be used to setup a hosted runtime. Hosted runtimes on Colab might be unreliable and get shut down after using for a while, deleting all the progress in the process. That said, in the following we will go through a simple example of using ML-Mnemonist to our advantage. In the following, we address a simple regression task and try to train a neural network created by PyTorch to fit the data. In the midst of the experiment, we can interrupt the training process and restart the runtime. All the data in the runtime will be stored in a specific format in certain directories specified in the `.env` file. Using the cached directories, we can resume our progress seamlessly after restarting the runtime and loading it."
   ]
  },
  {
   "cell_type": "markdown",
   "metadata": {
    "id": "rE6olttuFV0Q",
    "pycharm": {
     "name": "#%% md\n"
    }
   },
   "source": [
    "# Setup hosted runtime\n",
    "\n",
    "Set of instructions used to clone the ML-Mnemonist repository. This block is created for Colab users. The first block creates an executable and the second one runs the executable and installs pre-requisites of the project. The process is done in the following manner:\n",
    "1. The Google drive is mounted.\n",
    "2. The ML-Mnemonist repository is cloned (or pulled, depends on your response).\n",
    "3. The `.env` directory is a personal file and you should specify it yourself. You can either enter the content of the file line by line or specify a directory (presumably from your Google drive) to copy into the cloned repository -- This will help setup the ML-Mnemonist base directories such as the experiments directory, the configurations directory, the secret directory, and caching directory.\n",
    "4. Afterward, you are prompted to install packages, these packages are specified in the cloned repository's `requirement.txt` file."
   ]
  },
  {
   "cell_type": "code",
   "execution_count": 1,
   "metadata": {
    "colab": {
     "base_uri": "https://localhost:8080/"
    },
    "id": "eOfp_NGbT1jZ",
    "outputId": "79649df5-19a7-4f4a-a2a6-f49a6cc498c7",
    "pycharm": {
     "name": "#%%\n"
    }
   },
   "outputs": [
    {
     "name": "stderr",
     "output_type": "stream",
     "text": [
      "UsageError: Line magic function `%` not found.\n"
     ]
    }
   ],
   "source": [
    "% % writefile sys_setup.py\n",
    "#!usr/bin/bash python\n",
    "\n",
    "import sys\n",
    "from google.colab import drive\n",
    "import subprocess\n",
    "import os\n",
    "import shutil\n",
    "\n",
    "PROJ_NAME = 'ML-Mnemonist'\n",
    "GIT_DIR = 'HamidrezaKmK'\n",
    "\n",
    "data_dir = None\n",
    "\n",
    "if __name__ == '__main__':\n",
    "    env = os.environ.copy()\n",
    "    if not os.path.exists('/content/drive'):\n",
    "        print(\"Mounting drive...\")\n",
    "        drive.mount('/content/drive')\n",
    "        print(\"Mount complete!\")\n",
    "\n",
    "    while True:\n",
    "        opt = input(\"What are you trying to do? [clone/pull] \")\n",
    "        if opt == 'clone':\n",
    "            addr = f\"https://github.com/{GIT_DIR}/{PROJ_NAME}\"\n",
    "            print(f\"Trying to connect to {addr}\")\n",
    "            token = input(\"Enter token: \")\n",
    "            addr = addr.replace('[TOKEN]', token)\n",
    "            res = subprocess.run(['git', 'clone', addr], env=env, capture_output=True)\n",
    "            print(res.stdout.decode())\n",
    "            print(res.stderr.decode())\n",
    "            break\n",
    "        elif opt == 'pull':\n",
    "            path = os.path.join('/content', PROJ_NAME)\n",
    "            os.chdir(path)\n",
    "            res = subprocess.run(['git', 'pull'], env=env, capture_output=True)\n",
    "            print(res.stdout.decode())\n",
    "            print(res.stderr.decode())\n",
    "            break\n",
    "        elif opt == '':\n",
    "            print(\"Nothing happened!\")\n",
    "            break\n",
    "\n",
    "    if not os.path.exists(f'/content/{PROJ_NAME}'):\n",
    "        raise RuntimeError(\"No project repository available!\")\n",
    "\n",
    "    if not os.path.exists(f'/content/{PROJ_NAME}/.env'):\n",
    "        print(\"Dotenv non-existant!\")\n",
    "        while True:\n",
    "            resp = input(\"Do you want to enter the file in the prompt or copy it?\\n[copy/write] \")\n",
    "            if resp == 'copy':\n",
    "                dir = input(\"Enter the directory to copy: \")\n",
    "                shutil.copyfile(dir, f'/content/{PROJ_NAME}/.env')\n",
    "            elif resp == 'write':\n",
    "                print(\"Enter the lines in format ENV_VARIABLE_NAME=VALUE\")\n",
    "                print(\"End with: ENDFILE\")\n",
    "                with open(f'/content/{PROJ_NAME}/.env', 'w') as f:\n",
    "                    while True:\n",
    "                        line = input()\n",
    "                        if line == 'ENDFILE':\n",
    "                            break\n",
    "                        f.write(f'{line}\\n')\n",
    "            else:\n",
    "                continue\n",
    "            break\n",
    "\n",
    "    os.chdir('/content')\n"
   ]
  },
  {
   "cell_type": "code",
   "execution_count": 23,
   "metadata": {
    "colab": {
     "base_uri": "https://localhost:8080/",
     "height": 52
    },
    "id": "mzkBQqSLUWC3",
    "outputId": "2d475291-ff6f-430d-da51-06a1eb22bb66",
    "pycharm": {
     "name": "#%%\n"
    }
   },
   "outputs": [
    {
     "name": "stdout",
     "output_type": "stream",
     "text": [
      "Running complete!\n"
     ]
    },
    {
     "data": {
      "text/plain": [
       "<Figure size 432x288 with 0 Axes>"
      ]
     },
     "metadata": {},
     "output_type": "display_data"
    }
   ],
   "source": [
    "PROJ_NAME = 'ML-Mnemonist'\n",
    "\n",
    "from IPython.display import clear_output\n",
    "% run / content / sys_setup.py\n",
    "resp = input(\"Do you want to install packages? [y/n] \")\n",
    "if resp == 'y':\n",
    "    !pip install -r / content / ML-Mnemonist / requirements.txt\n",
    "    input(\"Requrements installed! -- press any key to continue ...\")\n",
    "clear_output()\n",
    "\n",
    "import sys\n",
    "\n",
    "sys.path.append(f'/content/{PROJ_NAME}')\n",
    "os.chdir(f'/content/{PROJ_NAME}')\n",
    "print(\"Running complete!\")"
   ]
  },
  {
   "cell_type": "markdown",
   "metadata": {
    "pycharm": {
     "name": "#%% md\n"
    }
   },
   "source": [
    "# Local Runtime\n",
    "\n",
    "In case you want to run the tutorial on a local machine you should make sure to include the `mlmnemonist` directory in your `sys.path` using `sys.path.append(ROOT)`; this assumes you have cloned the repository and want to run from source codes. Otherwise, you can also run `pip install mlmnemonist` and proceed."
   ]
  },
  {
   "cell_type": "code",
   "execution_count": 1,
   "metadata": {
    "pycharm": {
     "name": "#%%\n"
    }
   },
   "outputs": [],
   "source": [
    "# Using the repository source (If you have not yet installed the package)\n",
    "%load_ext autoreload\n",
    "import sys\n",
    "sys.path.append('..')"
   ]
  },
  {
   "cell_type": "markdown",
   "metadata": {},
   "source": [
    "## Dotenv\n",
    "\n",
    "The dotenv for this tutorial should look like the following:\n",
    "\n",
    "```\n",
    "MLM_EXPERIMENT_DIR=\"absolute-path-to-testing\"\n",
    "MLM_CONFIG_DIR=\"absolute-path-to-testing/config\"\n",
    "MLM_CHECKPOINT_DIR=\"absolute-path-to-testing\"\n",
    "MLM_SECRET_ROOT_DIR=\"absolute-path-to-testing\"\n",
    "```"
   ]
  },
  {
   "cell_type": "markdown",
   "metadata": {
    "id": "iNiIuYQbWti3",
    "pycharm": {
     "name": "#%% md\n"
    }
   },
   "source": [
    "# Experiment runner\n",
    "\n",
    "After ensuring everything is set to the wanted values in `.env`, use the object `FACTORY` to create an experiment runner. You can print an experiment runner to get an overview of the functions it is using as well as its corresponding experiment directory."
   ]
  },
  {
   "cell_type": "code",
   "execution_count": 12,
   "metadata": {
    "collapsed": false,
    "pycharm": {
     "name": "#%%\n"
    }
   },
   "outputs": [
    {
     "name": "stdout",
     "output_type": "stream",
     "text": [
      "Runner: 2022-11-09-tut1\n",
      "\t - cache token: 0\n",
      "\t - no configuration file specified!\n",
      "\t - preprocessings functions []\n",
      "\t - recurring pipeline []\n",
      "\t - Run function not implemented!\n"
     ]
    }
   ],
   "source": [
    "%autoreload 3\n",
    "import mlmnemonist as mlm\n",
    "my_runner = mlm.FACTORY.create_experiment_runner(description='This is an experiment runner created only for the purpose of testing',\n",
    "                                                 experiment_name='tut1')\n",
    "print(my_runner)"
   ]
  },
  {
   "cell_type": "markdown",
   "metadata": {
    "id": "_FxBXOOvtLWC",
    "pycharm": {
     "name": "#%% md\n"
    }
   },
   "source": [
    "Now, we will create an experiment that takes in a configuration node defined in the `CfgNode` class of `yaccs`. Run the following block that uses a configuration default drawn from the testing directory. This configuration file is defined for a simple problem that we delve into in the next section. For now, we want to draw your attention on how to use the `cfg_base` and `cfg_dir` arguments to define a specific configuration for experiments."
   ]
  },
  {
   "cell_type": "code",
   "execution_count": 3,
   "metadata": {
    "id": "azqIcguUWxka",
    "pycharm": {
     "name": "#%%\n"
    }
   },
   "outputs": [
    {
     "name": "stdout",
     "output_type": "stream",
     "text": [
      "-----------------------\n",
      "Default configurations:\n",
      "-----------------------\n",
      "DATASET:\n",
      "  TEST_NAME: not-specified!\n",
      "  TRAIN_NAME: not-specified!\n",
      "MODEL:\n",
      "  HYPER_PARAMETERS:\n",
      "    H1: -1\n",
      "    H2: -1\n",
      "    IN_FEATURES: -1\n",
      "SOLVER:\n",
      "  DEVICE: not-specified!\n",
      "  LR: 0.0\n",
      "  METHOD: not-specified!\n",
      "  OPTIMIZER_TYPE: not-specified!\n",
      "Runner: 2022-11-09-tut-with-config\n",
      "\t - cache token: 5\n",
      "\t - configurations at: None\n",
      "\t - preprocessings functions []\n",
      "\t - recurring pipeline []\n",
      "\t - Run function not implemented!\n",
      "------------------------\n",
      "Configurations from yaml:\n",
      "------------------------\n",
      "DATASET:\n",
      "  TEST_NAME: california_housing_test.csv\n",
      "  TRAIN_NAME: california_housing_train.csv\n",
      "MODEL:\n",
      "  HYPER_PARAMETERS:\n",
      "    H1: 100\n",
      "    H2: 10\n",
      "    IN_FEATURES: 8\n",
      "SOLVER:\n",
      "  DEVICE: cpu\n",
      "  LR: 0.0001\n",
      "  METHOD: mlp-method\n",
      "  OPTIMIZER_TYPE: adam\n"
     ]
    }
   ],
   "source": [
    "from testing.config.config import get_cfg_defaults\n",
    "%autoreload 3\n",
    "\n",
    "\n",
    "runner = mlm.FACTORY.create_experiment_runner(\"tut-with-config\",\n",
    "                                              description=\"This is an experiment that takes in a configuration\",\n",
    "                                              cfg_base=get_cfg_defaults())\n",
    "print(\"-----------------------\")\n",
    "print(\"Default configurations:\")\n",
    "print(\"-----------------------\")\n",
    "print(runner.get_cfg())\n",
    "print(runner)\n",
    "\n",
    "# Now use an additional configuration file and merge it with the previous\n",
    "runner = mlm.FACTORY.create_experiment_runner(\"tut-with-config\",\n",
    "                                              description=\"This is an experiment that takes in a configuration\",\n",
    "                                              cfg_base=get_cfg_defaults(),\n",
    "                                              cfg_dir='conf-test.yaml')\n",
    "print(\"------------------------\")\n",
    "print(\"Configurations from yaml:\")\n",
    "print(\"------------------------\")\n",
    "print(runner.get_cfg())\n"
   ]
  },
  {
   "cell_type": "markdown",
   "metadata": {},
   "source": [
    "Now if we can also retrieve the previous runner we defined using the retrieve functionality in the factory."
   ]
  },
  {
   "cell_type": "code",
   "execution_count": 2,
   "metadata": {
    "id": "2Eh4tGm5XTOR",
    "pycharm": {
     "name": "#%%\n"
    }
   },
   "outputs": [
    {
     "name": "stderr",
     "output_type": "stream",
     "text": [
      "UsageError: Line magic function `%autoreload` not found.\n"
     ]
    }
   ],
   "source": [
    "%autoreload 3\n",
    "runner = mlm.FACTORY.retrieve_experiment_runner('0')\n",
    "print(runner)"
   ]
  },
  {
   "cell_type": "markdown",
   "metadata": {
    "id": "U_PEvAX89xMs",
    "pycharm": {
     "name": "#%% md\n"
    }
   },
   "source": [
    "# Run a simple linear regression program\n",
    "\n"
   ]
  },
  {
   "cell_type": "markdown",
   "metadata": {},
   "source": [
    "Now we try to solve the classic house pricing regression problem. The data is available in `testing/data` directory. Two `csv` files are available with columns presenting different features of the house and a column indicating their price. The goal is to train a neural network model using the training dataset and then test it on the test dataset.\n",
    "\n",
    "We will first define a new runner and fill up the different sections of the pipeline. The preprocess pipeline of the runner consists of two functions:\n",
    "1. `load_raw_data`: Read the csv files into appropriate pandas dataframes.\n",
    "2. `process_data`: Convert the dataframes into numpy arrays.\n",
    "\n",
    "Each time we call the `run` function for the model - either after a session has crashed or after pausing - a set of functions repeat and we fit them in the `recurring_pipeline` category. For this problem, this is categorized in the following:\n",
    "1. `setup_device`: Using the config file, figure out the device being used. The device can either be `cpu` or `cuda`.\n",
    "2. `setup_model`: Create a multi-layer perceptron model and set the device associated with the model appropriately.\n",
    "3. `setup_training`: Setup the optimizer that is being used for the training, the loss function, and other things that are required pre-training.\n",
    "\n",
    "Note that in the implementation below, we have defined variables such as `runner.device`, `runner.optim`, and `runner.criterion` that is being used accross the experiment runner pipeline. This scheme can be repeated for any other variable that might re-accure accross preprocessing, recurring_pipeline, or the run function itself.\n",
    "\n",
    "Before we delve into the implentations, we should go through the configurations that have been set for this problem. The config file available in `conf-test.yaml` contains three sections. First off, the `DATASET` section contains two directories indicating the raw csv file directories that contain the house features and their prices. Secondly, the `SOLVER` section contains information while training such as the learning rate, the optimizer being used, whether we use cuda or cpu, and the type of model (here being Multi-layer perceptrons). Finally, the last section relates to the model hyper-parameters which contain the input feature size and the hidden layer sizes.\n",
    "\n",
    "**Note**: We can also adjust how frequent the experiment runner prints out logs using the `verbose` statement. Here we have set it to 1 and this results in some minor logs being produced while calling `runner.preprocess()`."
   ]
  },
  {
   "cell_type": "code",
   "execution_count": 4,
   "metadata": {
    "id": "GFRWSI6F_Af_",
    "pycharm": {
     "name": "#%%\n"
    }
   },
   "outputs": [
    {
     "name": "stdout",
     "output_type": "stream",
     "text": [
      "Runner: 2022-11-09-regress-houses\n",
      "\t - cache token: 5\n",
      "\t - configurations at: /home/shengdebao/work/projects/ML-Mnemonist/testing/config/conf-test.yaml\n",
      "\t - preprocessings functions []\n",
      "\t - recurring pipeline []\n",
      "\t - Run function not implemented!\n"
     ]
    }
   ],
   "source": [
    "%autoreload 3\n",
    "import mlmnemonist as mlm\n",
    "from testing.config.config import get_cfg_defaults\n",
    "from mlmnemonist.experiment_runner import ExperimentRunner\n",
    "import pandas as pd\n",
    "import os\n",
    "\n",
    "runner = mlm.FACTORY.create_experiment_runner('regress-houses',\n",
    "                                              description='This experiments trains a model to do a regression on the house pricing task',\n",
    "                                              cfg_base=get_cfg_defaults(),\n",
    "                                              cfg_dir='conf-test.yaml',\n",
    "                                              verbose=1\n",
    "                                              )\n",
    "print(runner)"
   ]
  },
  {
   "cell_type": "code",
   "execution_count": 5,
   "metadata": {
    "id": "PhuvzGFG-86Z",
    "pycharm": {
     "name": "#%%\n"
    }
   },
   "outputs": [],
   "source": [
    "def load_raw_data(runner: ExperimentRunner):\n",
    "    train_name = runner.cfg.DATASET.TRAIN_NAME\n",
    "    test_name = runner.cfg.DATASET.TEST_NAME\n",
    "    runner.train_df = pd.read_csv(runner.reveal_true_path(train_name))\n",
    "    runner.test_df = pd.read_csv(runner.reveal_true_path(test_name))\n",
    "\n",
    "\n",
    "runner.preprocessing_pipeline.update_function(load_raw_data)"
   ]
  },
  {
   "cell_type": "code",
   "execution_count": 6,
   "metadata": {
    "id": "3Vo6EsKg_jmk",
    "pycharm": {
     "name": "#%%\n"
    }
   },
   "outputs": [],
   "source": [
    "def process_data(runner: ExperimentRunner):\n",
    "    runner.train_X = runner.train_df.drop(columns='median_house_value').to_numpy()\n",
    "    runner.train_Y = runner.train_df['median_house_value'].to_numpy()\n",
    "    runner.test_X = runner.test_df.drop(columns='median_house_value').to_numpy()\n",
    "    runner.test_Y = runner.test_df['median_house_value'].to_numpy()\n",
    "\n",
    "\n",
    "runner.preprocessing_pipeline.update_function(process_data)"
   ]
  },
  {
   "cell_type": "code",
   "execution_count": 8,
   "metadata": {
    "colab": {
     "base_uri": "https://localhost:8080/"
    },
    "id": "o9XySh8pBGwz",
    "outputId": "279a1b1d-764f-4e9b-a8c5-a53d936e709e",
    "pycharm": {
     "name": "#%%\n"
    }
   },
   "outputs": [
    {
     "name": "stdout",
     "output_type": "stream",
     "text": [
      "[1/2] Running load_raw_data\n",
      "[2/2] Running process_data\n"
     ]
    }
   ],
   "source": [
    "# Run the functions one-by-one in order they have been added in the `update_function` method\n",
    "runner.preprocess()"
   ]
  },
  {
   "cell_type": "markdown",
   "metadata": {
    "id": "dXriKjd6IaYC",
    "pycharm": {
     "name": "#%% md\n"
    }
   },
   "source": [
    "## Create a model using configurations\n",
    "\n",
    "The following introduces a simple class of a custom multi-layer perceptron. We then implement the recurring pipeline of the runner and add the corresponding functions by the `update_function` method on the `recurring_pipeline`. Note that the recurring pipeline contains a set of functions that will run each time we call the `runner.run()` method. Note that in the implementation of `setup_model` we have used the `runner.CACHE` which contains the cached information to cache the model parameters. The model parameters should be cached in iterations because we do not want to lose our training progress."
   ]
  },
  {
   "cell_type": "code",
   "execution_count": 8,
   "metadata": {
    "id": "4rUEXYL2p-Jx",
    "pycharm": {
     "name": "#%%\n"
    }
   },
   "outputs": [],
   "source": [
    "import torch\n",
    "import torch.nn as nn\n",
    "import torch.nn.functional as F\n",
    "\n",
    "\n",
    "class MyMLP(nn.Module):\n",
    "    \"\"\"\n",
    "    A self explanatory MLP model with ReLU activations and 2 hidden layers\n",
    "    \"\"\"\n",
    "    def __init__(self, input_features: int, hidden_layer_1: int, hidden_layer_2: int):\n",
    "        super(MyMLP, self).__init__()\n",
    "        self.l1 = nn.Linear(input_features, hidden_layer_1)\n",
    "        self.l2 = nn.Linear(hidden_layer_1, hidden_layer_2)\n",
    "        self.l3 = nn.Linear(hidden_layer_2, 1)\n",
    "\n",
    "    def forward(self, x):\n",
    "        x = self.l1(x)\n",
    "        x = F.relu(x)\n",
    "        x = self.l2(x)\n",
    "        x = F.relu(x)\n",
    "        x = self.l3(x)\n",
    "        return x\n"
   ]
  },
  {
   "cell_type": "code",
   "execution_count": 9,
   "metadata": {
    "id": "2DdIqwaOSRlR",
    "pycharm": {
     "name": "#%%\n"
    }
   },
   "outputs": [],
   "source": [
    "import torch\n",
    "\n",
    "\n",
    "def setup_device(runner: ExperimentRunner):\n",
    "    # extract the device from config\n",
    "    device = runner.cfg.SOLVER.DEVICE\n",
    "    if device == 'cpu':\n",
    "        runner.device = torch.device('cpu')\n",
    "    elif device == 'cuda' and torch.cuda.is_available():\n",
    "        runner.device = torch.device('cuda')\n",
    "    else:\n",
    "        raise NotImplementedError(f\"device {device} is not implemented!\")\n",
    "\n",
    "\n",
    "runner.recurring_pipeline.update_function(setup_device)"
   ]
  },
  {
   "cell_type": "code",
   "execution_count": 10,
   "metadata": {
    "id": "ort8OLJRIeUQ",
    "pycharm": {
     "name": "#%%\n"
    }
   },
   "outputs": [],
   "source": [
    "def setup_model(runner: ExperimentRunner):\n",
    "    # extract the method from config\n",
    "    method = runner.cfg.SOLVER.METHOD\n",
    "    # construct the model from registry\n",
    "    cfg_h_params = runner.cfg.MODEL.HYPER_PARAMETERS\n",
    "    my_model = MyMLP(input_features=cfg_h_params.IN_FEATURES,\n",
    "                     hidden_layer_1=cfg_h_params.H1,\n",
    "                     hidden_layer_2=cfg_h_params.H2)\n",
    "    # set the function in the cache to save weights\n",
    "    my_model = runner.CACHE.SET_M('mlp-key', my_model)\n",
    "    my_model.to(runner.device)\n",
    "    if runner.verbose > 0:\n",
    "        print(\"Model state dict\")\n",
    "        print(my_model)\n",
    "\n",
    "\n",
    "runner.recurring_pipeline.update_function(setup_model)"
   ]
  },
  {
   "cell_type": "code",
   "execution_count": 11,
   "metadata": {
    "id": "sGhQ3LKcS-dC",
    "pycharm": {
     "name": "#%%\n"
    }
   },
   "outputs": [],
   "source": [
    "import torch\n",
    "import torch.nn as nn\n",
    "\n",
    "\n",
    "def setup_training(runner: ExperimentRunner):\n",
    "    my_model = runner.CACHE.GET_M('mlp-key').to(runner.device)\n",
    "    runner.criterion = nn.MSELoss()\n",
    "    if runner.cfg.SOLVER.OPTIMIZER_TYPE == 'adam':\n",
    "        runner.optim = torch.optim.Adam(my_model.parameters(), lr=runner.cfg.SOLVER.LR)\n",
    "    else:\n",
    "        raise NotImplementedError(f\"Optimizer type not implemented\"\n",
    "                                  f\"{runner.cfg.SOLVER.OPTIMIZER_TYPE}\")\n",
    "\n",
    "\n",
    "runner.recurring_pipeline.update_function(setup_training)"
   ]
  },
  {
   "cell_type": "markdown",
   "metadata": {},
   "source": [
    "If we output the runner it will contain the function names of the recurring and the preprocessing pipeline."
   ]
  },
  {
   "cell_type": "code",
   "execution_count": 19,
   "metadata": {
    "colab": {
     "base_uri": "https://localhost:8080/"
    },
    "id": "m3H9fjChzRRF",
    "outputId": "17f0f93e-66cd-4785-bfa7-99db66b52d8b",
    "pycharm": {
     "name": "#%%\n"
    }
   },
   "outputs": [
    {
     "name": "stdout",
     "output_type": "stream",
     "text": [
      "Runner: 2022-11-09-regress-houses\n",
      "\t - cache token: 4\n",
      "\t - configurations at: /home/shengdebao/work/projects/ML-Mnemonist/testing/config/conf-test.yaml\n",
      "\t - preprocessings functions ['load_raw_data', 'process_data']\n",
      "\t - recurring pipeline ['setup_device', 'setup_model', 'setup_training']\n",
      "\t - Run function: my_custom_run\n",
      "\n"
     ]
    }
   ],
   "source": [
    "print(runner)"
   ]
  },
  {
   "cell_type": "markdown",
   "metadata": {
    "id": "57mO42YpH-Ck",
    "pycharm": {
     "name": "#%% md\n"
    }
   },
   "source": [
    "# Implement a run function\n",
    "\n",
    "A run function is the core part of an experiment. This function takes in an input of type `ExperimentRunner` type is its first element and a bunch of arbitrary input types for the rest.\n"
   ]
  },
  {
   "cell_type": "code",
   "execution_count": 23,
   "metadata": {
    "colab": {
     "base_uri": "https://localhost:8080/"
    },
    "id": "ajq3MZ0bhlxG",
    "outputId": "05c1c2ab-bf36-49b1-9cda-c9f1ff1f8abc",
    "pycharm": {
     "name": "#%%\n"
    }
   },
   "outputs": [],
   "source": [
    "# Using the following you can revert all that has been done in the previous runs\n",
    "# By default, this function prompts you to check whether your are sure or not\n",
    "# Using prompt=False you can remove that condition\n",
    "runner.CACHE.RESET()"
   ]
  },
  {
   "cell_type": "code",
   "execution_count": 13,
   "metadata": {
    "id": "0il8pIX8H_uz",
    "pycharm": {
     "name": "#%%\n"
    }
   },
   "outputs": [],
   "source": [
    "from tqdm import tqdm\n",
    "from IPython.display import clear_output\n",
    "import matplotlib.pyplot as plt\n",
    "import numpy as np\n",
    "\n",
    "\n",
    "def my_custom_run(runner: ExperimentRunner, show_freq=50):\n",
    "    # Get model from cache\n",
    "    my_model = runner.CACHE.GET_M('mlp-key')\n",
    "\n",
    "    # Get the epoch number and history from cache\n",
    "    # if it is not cached from before set it to zero\n",
    "    epoch_i = runner.CACHE.SET_IFN('epoch_i', 0)\n",
    "    loss_history = runner.CACHE.SET_IFN('loss-history', {'train': [], 'test': []})\n",
    "    for epoch_i in range(epoch_i, 1000):\n",
    "\n",
    "        # Shuffle all the indices first\n",
    "        inds = np.arange(runner.train_X.shape[0])\n",
    "        np.random.shuffle(inds)\n",
    "\n",
    "        batch_size = runner.cfg.SOLVER.BATCH_SIZE\n",
    "\n",
    "        loss_train = []\n",
    "        my_model.train()\n",
    "        for L in range(0, runner.train_X.shape[0], batch_size): \n",
    "            R = min(L + batch_size, runner.train_X.shape[0])\n",
    "            # Find the range [L:R]\n",
    "            X = torch.from_numpy(runner.train_X[inds[L:R],:]).float().to(runner.device)\n",
    "            y = torch.from_numpy(runner.train_Y[inds[L:R]]).float().to(runner.device)\n",
    "            loss = runner.criterion(my_model(X).squeeze(), y)\n",
    "            # Find the loss between the predicted batch and y\n",
    "            loss.backward()\n",
    "            runner.optim.step()\n",
    "            loss_train.append(loss.detach().cpu().item())\n",
    "\n",
    "        # Find the average loss and add it to the trainign loss history\n",
    "        mean_loss = sum(loss_train) / len(loss_train)\n",
    "        loss_history['train'].append(mean_loss)\n",
    "\n",
    "        # Now we will check the loss on the whole test dataset\n",
    "        loss_test = []\n",
    "        # Shuffle all the indices first\n",
    "        inds = np.arange(runner.test_X.shape[0])\n",
    "        np.random.shuffle(inds)\n",
    "        my_model.eval()\n",
    "        with torch.no_grad():\n",
    "            for L in range(0, runner.test_X.shape[0], batch_size):\n",
    "                R = min(L + batch_size, runner.test_X.shape[0])\n",
    "                X = torch.from_numpy(runner.test_X[inds[L:R], :]).float().to(runner.device)\n",
    "                y = torch.from_numpy(runner.test_Y[inds[L:R]]).float().to(runner.device)\n",
    "                loss = runner.criterion(my_model(X).squeeze(), y)\n",
    "                loss_test.append(loss.detach().cpu().item())\n",
    "        # Find the average loss and add them to loss history\n",
    "        mean_loss = sum(loss_test) / len(loss_test)\n",
    "        loss_history['test'].append(mean_loss)\n",
    "\n",
    "\n",
    "        # Display the losses\n",
    "        if (epoch_i + 1) % show_freq == 0:\n",
    "            clear_output()\n",
    "            plt.plot(list(range(len(loss_history['train']))), loss_history['train'], label='loss-train')\n",
    "            plt.plot(list(range(len(loss_history['test']))), loss_history['test'], label='loss-test')\n",
    "            plt.legend()\n",
    "            plt.show()\n",
    "\n",
    "        # Caching and saving checkpoints\n",
    "        runner.CACHE.SET('epoch_i', epoch_i)\n",
    "        runner.CACHE.SET('loss-history', loss_history)\n",
    "        runner.CACHE.SET_M('mlp-key', my_model)\n",
    "        runner.CACHE.SAVE()\n",
    "\n",
    "\n",
    "# The following sets the `my_custom_run` fuction as the function which \n",
    "# will be called after each time the runner.run() method is called\n",
    "runner.implement_run(my_custom_run)"
   ]
  },
  {
   "cell_type": "markdown",
   "metadata": {
    "id": "cc8aGQq_jDAG",
    "pycharm": {
     "name": "#%% md\n"
    }
   },
   "source": [
    "Run the following function to see the training and validation loss.\n",
    "Interrupt the process for as many times as you like and re-run it. Since the code supports caching, it will continue right off where it last ended."
   ]
  },
  {
   "cell_type": "code",
   "execution_count": 24,
   "metadata": {
    "colab": {
     "base_uri": "https://localhost:8080/",
     "height": 415
    },
    "id": "p6IKYVw7dKBo",
    "outputId": "a3436114-2c4a-4dc5-a453-c82cb8b413eb",
    "pycharm": {
     "name": "#%%\n"
    }
   },
   "outputs": [
    {
     "data": {
      "image/png": "[encoded data removed]",
      "text/plain": [
       "<Figure size 640x480 with 1 Axes>"
      ]
     },
     "metadata": {},
     "output_type": "display_data"
    },
    {
     "ename": "KeyboardInterrupt",
     "evalue": "",
     "output_type": "error",
     "traceback": [
      "\u001b[0;31m---------------------------------------------------------------------------\u001b[0m",
      "\u001b[0;31mKeyboardInterrupt\u001b[0m                         Traceback (most recent call last)",
      "Cell \u001b[0;32mIn [24], line 1\u001b[0m\n\u001b[0;32m----> 1\u001b[0m runner\u001b[39m.\u001b[39;49mrun(show_freq\u001b[39m=\u001b[39;49m\u001b[39m10\u001b[39;49m)\n",
      "File \u001b[0;32m~/work/projects/ML-Mnemonist/tutorial/../mlmnemonist/experiment_runner.py:198\u001b[0m, in \u001b[0;36mExperimentRunner.run\u001b[0;34m(self, *args, **kwargs)\u001b[0m\n\u001b[1;32m    194\u001b[0m \u001b[39mself\u001b[39m\u001b[39m.\u001b[39mrecurring_pipeline\u001b[39m.\u001b[39mrun(\n\u001b[1;32m    195\u001b[0m     keep\u001b[39m=\u001b[39m\u001b[39mTrue\u001b[39;00m, verbose\u001b[39m=\u001b[39m\u001b[39mself\u001b[39m\u001b[39m.\u001b[39mverbose, runner\u001b[39m=\u001b[39m\u001b[39mself\u001b[39m)\n\u001b[1;32m    197\u001b[0m \u001b[39mself\u001b[39m\u001b[39m.\u001b[39mCACHE\u001b[39m.\u001b[39mLOAD()\n\u001b[0;32m--> 198\u001b[0m ret \u001b[39m=\u001b[39m \u001b[39mself\u001b[39;49m\u001b[39m.\u001b[39;49m_implemented_run(\u001b[39mself\u001b[39;49m, \u001b[39m*\u001b[39;49margs, \u001b[39m*\u001b[39;49m\u001b[39m*\u001b[39;49mkwargs)\n\u001b[1;32m    200\u001b[0m \u001b[39m# Save files\u001b[39;00m\n\u001b[1;32m    201\u001b[0m \u001b[39mif\u001b[39;00m \u001b[39mself\u001b[39m\u001b[39m.\u001b[39mverbose \u001b[39m>\u001b[39m \u001b[39m0\u001b[39m:\n",
      "Cell \u001b[0;32mIn [21], line 32\u001b[0m, in \u001b[0;36mmy_custom_run\u001b[0;34m(runner, show_freq)\u001b[0m\n\u001b[1;32m     30\u001b[0m loss \u001b[39m=\u001b[39m runner\u001b[39m.\u001b[39mcriterion(my_model(X)\u001b[39m.\u001b[39msqueeze(), y)\n\u001b[1;32m     31\u001b[0m \u001b[39m# Find the loss between the predicted batch and y\u001b[39;00m\n\u001b[0;32m---> 32\u001b[0m loss\u001b[39m.\u001b[39;49mbackward()\n\u001b[1;32m     33\u001b[0m runner\u001b[39m.\u001b[39moptim\u001b[39m.\u001b[39mstep()\n\u001b[1;32m     34\u001b[0m loss_train\u001b[39m.\u001b[39mappend(loss\u001b[39m.\u001b[39mdetach()\u001b[39m.\u001b[39mcpu()\u001b[39m.\u001b[39mitem())\n",
      "File \u001b[0;32m~/work/projects/ML-Mnemonist/venv/lib/python3.10/site-packages/torch/_tensor.py:396\u001b[0m, in \u001b[0;36mTensor.backward\u001b[0;34m(self, gradient, retain_graph, create_graph, inputs)\u001b[0m\n\u001b[1;32m    387\u001b[0m \u001b[39mif\u001b[39;00m has_torch_function_unary(\u001b[39mself\u001b[39m):\n\u001b[1;32m    388\u001b[0m     \u001b[39mreturn\u001b[39;00m handle_torch_function(\n\u001b[1;32m    389\u001b[0m         Tensor\u001b[39m.\u001b[39mbackward,\n\u001b[1;32m    390\u001b[0m         (\u001b[39mself\u001b[39m,),\n\u001b[0;32m   (...)\u001b[0m\n\u001b[1;32m    394\u001b[0m         create_graph\u001b[39m=\u001b[39mcreate_graph,\n\u001b[1;32m    395\u001b[0m         inputs\u001b[39m=\u001b[39minputs)\n\u001b[0;32m--> 396\u001b[0m torch\u001b[39m.\u001b[39;49mautograd\u001b[39m.\u001b[39;49mbackward(\u001b[39mself\u001b[39;49m, gradient, retain_graph, create_graph, inputs\u001b[39m=\u001b[39;49minputs)\n",
      "File \u001b[0;32m~/work/projects/ML-Mnemonist/venv/lib/python3.10/site-packages/torch/autograd/__init__.py:173\u001b[0m, in \u001b[0;36mbackward\u001b[0;34m(tensors, grad_tensors, retain_graph, create_graph, grad_variables, inputs)\u001b[0m\n\u001b[1;32m    168\u001b[0m     retain_graph \u001b[39m=\u001b[39m create_graph\n\u001b[1;32m    170\u001b[0m \u001b[39m# The reason we repeat same the comment below is that\u001b[39;00m\n\u001b[1;32m    171\u001b[0m \u001b[39m# some Python versions print out the first line of a multi-line function\u001b[39;00m\n\u001b[1;32m    172\u001b[0m \u001b[39m# calls in the traceback and some print out the last line\u001b[39;00m\n\u001b[0;32m--> 173\u001b[0m Variable\u001b[39m.\u001b[39;49m_execution_engine\u001b[39m.\u001b[39;49mrun_backward(  \u001b[39m# Calls into the C++ engine to run the backward pass\u001b[39;49;00m\n\u001b[1;32m    174\u001b[0m     tensors, grad_tensors_, retain_graph, create_graph, inputs,\n\u001b[1;32m    175\u001b[0m     allow_unreachable\u001b[39m=\u001b[39;49m\u001b[39mTrue\u001b[39;49;00m, accumulate_grad\u001b[39m=\u001b[39;49m\u001b[39mTrue\u001b[39;49;00m)\n",
      "\u001b[0;31mKeyboardInterrupt\u001b[0m: "
     ]
    }
   ],
   "source": [
    "runner.run(show_freq=10)"
   ]
  },
  {
   "cell_type": "markdown",
   "metadata": {
    "id": "L-AqjwHsjpML",
    "pycharm": {
     "name": "#%% md\n"
    }
   },
   "source": [
    "# Run even after the session is closed\n",
    "\n",
    "Each runner has a cache token associated with it. You can checkout your runner's token using the following function:"
   ]
  },
  {
   "cell_type": "code",
   "execution_count": 25,
   "metadata": {
    "colab": {
     "base_uri": "https://localhost:8080/",
     "height": 36
    },
    "id": "OSKZn4j_jrmH",
    "outputId": "1dcbf48e-5a07-4b5f-db50-17d2e614723f",
    "pycharm": {
     "name": "#%%\n"
    }
   },
   "outputs": [
    {
     "data": {
      "text/plain": [
       "'4'"
      ]
     },
     "execution_count": 25,
     "metadata": {},
     "output_type": "execute_result"
    }
   ],
   "source": [
    "runner.CACHE.TOKEN"
   ]
  },
  {
   "cell_type": "markdown",
   "metadata": {
    "id": "M6sVSjy_j5hh",
    "pycharm": {
     "name": "#%% md\n"
    }
   },
   "source": [
    "Now restart the session and then use the factory retrieve function using the cache token above. That way, when you call `load_cache()` or whenever you re-run the `run()` function all the variables that have been cached will be reloaded again. \n",
    "\n",
    "**Note:** If you have used certain functions in the preprocessing or recurring pipeline, you should define them again in the session; otherwise, you might get errors where a function source code is cached but it has not yet been defined in your environment. This means that if you restart the session you have to re-run all the blocks containing the definitions of functions."
   ]
  },
  {
   "cell_type": "code",
   "execution_count": 15,
   "metadata": {},
   "outputs": [
    {
     "data": {
      "image/png": "[encoded data removed]",
      "text/plain": [
       "<Figure size 640x480 with 1 Axes>"
      ]
     },
     "metadata": {},
     "output_type": "display_data"
    },
    {
     "ename": "KeyboardInterrupt",
     "evalue": "",
     "output_type": "error",
     "traceback": [
      "\u001b[0;31m---------------------------------------------------------------------------\u001b[0m",
      "\u001b[0;31mKeyboardInterrupt\u001b[0m                         Traceback (most recent call last)",
      "Cell \u001b[0;32mIn [15], line 5\u001b[0m\n\u001b[1;32m      3\u001b[0m runner \u001b[39m=\u001b[39m mlm\u001b[39m.\u001b[39mFACTORY\u001b[39m.\u001b[39mretrieve_experiment_runner(\u001b[39m'\u001b[39m\u001b[39m4\u001b[39m\u001b[39m'\u001b[39m)\n\u001b[1;32m      4\u001b[0m runner\u001b[39m.\u001b[39mpreprocess()\n\u001b[0;32m----> 5\u001b[0m runner\u001b[39m.\u001b[39;49mrun(show_freq\u001b[39m=\u001b[39;49m\u001b[39m50\u001b[39;49m)\n",
      "File \u001b[0;32m~/work/projects/ML-Mnemonist/tutorial/../mlmnemonist/experiment_runner.py:198\u001b[0m, in \u001b[0;36mExperimentRunner.run\u001b[0;34m(self, *args, **kwargs)\u001b[0m\n\u001b[1;32m    194\u001b[0m \u001b[39mself\u001b[39m\u001b[39m.\u001b[39mrecurring_pipeline\u001b[39m.\u001b[39mrun(\n\u001b[1;32m    195\u001b[0m     keep\u001b[39m=\u001b[39m\u001b[39mTrue\u001b[39;00m, verbose\u001b[39m=\u001b[39m\u001b[39mself\u001b[39m\u001b[39m.\u001b[39mverbose, runner\u001b[39m=\u001b[39m\u001b[39mself\u001b[39m)\n\u001b[1;32m    197\u001b[0m \u001b[39mself\u001b[39m\u001b[39m.\u001b[39mCACHE\u001b[39m.\u001b[39mLOAD()\n\u001b[0;32m--> 198\u001b[0m ret \u001b[39m=\u001b[39m \u001b[39mself\u001b[39;49m\u001b[39m.\u001b[39;49m_implemented_run(\u001b[39mself\u001b[39;49m, \u001b[39m*\u001b[39;49margs, \u001b[39m*\u001b[39;49m\u001b[39m*\u001b[39;49mkwargs)\n\u001b[1;32m    200\u001b[0m \u001b[39m# Save files\u001b[39;00m\n\u001b[1;32m    201\u001b[0m \u001b[39mif\u001b[39;00m \u001b[39mself\u001b[39m\u001b[39m.\u001b[39mverbose \u001b[39m>\u001b[39m \u001b[39m0\u001b[39m:\n",
      "Cell \u001b[0;32mIn [13], line 32\u001b[0m, in \u001b[0;36mmy_custom_run\u001b[0;34m(runner, show_freq)\u001b[0m\n\u001b[1;32m     30\u001b[0m loss \u001b[39m=\u001b[39m runner\u001b[39m.\u001b[39mcriterion(my_model(X)\u001b[39m.\u001b[39msqueeze(), y)\n\u001b[1;32m     31\u001b[0m \u001b[39m# Find the loss between the predicted batch and y\u001b[39;00m\n\u001b[0;32m---> 32\u001b[0m loss\u001b[39m.\u001b[39;49mbackward()\n\u001b[1;32m     33\u001b[0m runner\u001b[39m.\u001b[39moptim\u001b[39m.\u001b[39mstep()\n\u001b[1;32m     34\u001b[0m loss_train\u001b[39m.\u001b[39mappend(loss\u001b[39m.\u001b[39mdetach()\u001b[39m.\u001b[39mcpu()\u001b[39m.\u001b[39mitem())\n",
      "File \u001b[0;32m~/work/projects/ML-Mnemonist/venv/lib/python3.10/site-packages/torch/_tensor.py:396\u001b[0m, in \u001b[0;36mTensor.backward\u001b[0;34m(self, gradient, retain_graph, create_graph, inputs)\u001b[0m\n\u001b[1;32m    387\u001b[0m \u001b[39mif\u001b[39;00m has_torch_function_unary(\u001b[39mself\u001b[39m):\n\u001b[1;32m    388\u001b[0m     \u001b[39mreturn\u001b[39;00m handle_torch_function(\n\u001b[1;32m    389\u001b[0m         Tensor\u001b[39m.\u001b[39mbackward,\n\u001b[1;32m    390\u001b[0m         (\u001b[39mself\u001b[39m,),\n\u001b[0;32m   (...)\u001b[0m\n\u001b[1;32m    394\u001b[0m         create_graph\u001b[39m=\u001b[39mcreate_graph,\n\u001b[1;32m    395\u001b[0m         inputs\u001b[39m=\u001b[39minputs)\n\u001b[0;32m--> 396\u001b[0m torch\u001b[39m.\u001b[39;49mautograd\u001b[39m.\u001b[39;49mbackward(\u001b[39mself\u001b[39;49m, gradient, retain_graph, create_graph, inputs\u001b[39m=\u001b[39;49minputs)\n",
      "File \u001b[0;32m~/work/projects/ML-Mnemonist/venv/lib/python3.10/site-packages/torch/autograd/__init__.py:173\u001b[0m, in \u001b[0;36mbackward\u001b[0;34m(tensors, grad_tensors, retain_graph, create_graph, grad_variables, inputs)\u001b[0m\n\u001b[1;32m    168\u001b[0m     retain_graph \u001b[39m=\u001b[39m create_graph\n\u001b[1;32m    170\u001b[0m \u001b[39m# The reason we repeat same the comment below is that\u001b[39;00m\n\u001b[1;32m    171\u001b[0m \u001b[39m# some Python versions print out the first line of a multi-line function\u001b[39;00m\n\u001b[1;32m    172\u001b[0m \u001b[39m# calls in the traceback and some print out the last line\u001b[39;00m\n\u001b[0;32m--> 173\u001b[0m Variable\u001b[39m.\u001b[39;49m_execution_engine\u001b[39m.\u001b[39;49mrun_backward(  \u001b[39m# Calls into the C++ engine to run the backward pass\u001b[39;49;00m\n\u001b[1;32m    174\u001b[0m     tensors, grad_tensors_, retain_graph, create_graph, inputs,\n\u001b[1;32m    175\u001b[0m     allow_unreachable\u001b[39m=\u001b[39;49m\u001b[39mTrue\u001b[39;49;00m, accumulate_grad\u001b[39m=\u001b[39;49m\u001b[39mTrue\u001b[39;49;00m)\n",
      "\u001b[0;31mKeyboardInterrupt\u001b[0m: "
     ]
    }
   ],
   "source": [
    "import mlmnemonist as mlm\n",
    "\n",
    "runner = mlm.FACTORY.retrieve_experiment_runner('4')\n",
    "runner.preprocess()\n",
    "runner.run(show_freq=50)"
   ]
  }
 ],
 "metadata": {
  "colab": {
   "collapsed_sections": [],
   "include_colab_link": true,
   "name": "ExperimentRunnerTutorial.ipynb",
   "provenance": []
  },
  "gpuClass": "standard",
  "kernelspec": {
   "display_name": "Python 3.10.6 ('venv': venv)",
   "language": "python",
   "name": "python3"
  },
  "language_info": {
   "codemirror_mode": {
    "name": "ipython",
    "version": 3
   },
   "file_extension": ".py",
   "mimetype": "text/x-python",
   "name": "python",
   "nbconvert_exporter": "python",
   "pygments_lexer": "ipython3",
   "version": "3.10.6"
  },
  "vscode": {
   "interpreter": {
    "hash": "4c0911935425ae116f6ccb92e9ef50e09526e8efde7955f914bd3f6cbdf397bf"
   }
  }
 },
 "nbformat": 4,
 "nbformat_minor": 1
}
